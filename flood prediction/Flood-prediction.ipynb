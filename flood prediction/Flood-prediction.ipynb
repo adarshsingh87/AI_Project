{
  "nbformat": 4,
  "nbformat_minor": 0,
  "metadata": {
    "colab": {
      "name": "Floodator",
      "provenance": [],
      "collapsed_sections": [],
      "authorship_tag": "ABX9TyPEyzn5wzPxKgHqXkmsGHnT",
      "include_colab_link": true
    },
    "kernelspec": {
      "name": "python385jvsc74a57bd0b3ba2566441a7c06988d0923437866b63cedc61552a5af99d1f4fb67d367b25f",
      "display_name": "Python 3.8.5 64-bit ('base': conda)"
    }
  },
  "cells": [
    {
      "cell_type": "markdown",
      "metadata": {
        "id": "KPJn34vRacrq",
        "colab_type": "text"
      },
      "source": [
        " ## Importing the dependencies\n"
      ]
    },
    {
      "cell_type": "code",
      "metadata": {
        "id": "hPJPgIEbaQRC",
        "colab_type": "code",
        "colab": {}
      },
      "source": [
        "import numpy as np\n",
        "import pandas as pd\n",
        "import matplotlib.pyplot as plt\n",
        "%matplotlib inline\n",
        "import seaborn as sns\n",
        "from sklearn import preprocessing\n",
        "from sklearn import model_selection,neighbors\n",
        "from sklearn.neighbors import KNeighborsClassifier\n",
        "from sklearn.linear_model import LogisticRegression\n",
        "from sklearn.svm import SVC\n",
        "from sklearn.tree import DecisionTreeClassifier\n",
        "from sklearn.ensemble import RandomForestClassifier\n",
        "from sklearn.model_selection import train_test_split\n",
        "from sklearn.model_selection import cross_val_score,cross_val_predict\n",
        "from sklearn.metrics import accuracy_score,recall_score,roc_auc_score,confusion_matrix"
      ],
      "execution_count": 3,
      "outputs": []
    },
    {
      "cell_type": "markdown",
      "metadata": {
        "id": "lPBEpcLtaoql",
        "colab_type": "text"
      },
      "source": [
        "## Fetching our data"
      ]
    },
    {
      "cell_type": "code",
      "metadata": {
        "id": "SUkdgFyWafo_",
        "colab_type": "code",
        "colab": {}
      },
      "source": [
        "data = pd.read_csv('./data/kerala_rainfall.csv')"
      ],
      "execution_count": 4,
      "outputs": []
    },
    {
      "cell_type": "code",
      "metadata": {
        "id": "-tgHflKqa-8J",
        "colab_type": "code",
        "outputId": "dd1cdecd-eb78-4daf-f670-d70079bbfba0",
        "colab": {
          "base_uri": "https://localhost:8080/",
          "height": 271
        }
      },
      "source": [
        "print(data)"
      ],
      "execution_count": 5,
      "outputs": [
        {
          "output_type": "stream",
          "name": "stdout",
          "text": [
            "    SUBDIVISION  YEAR   JAN   FEB   MAR    APR    MAY     JUN     JUL     AUG  \\\n0        KERALA  1901  28.7  44.7  51.6  160.0  174.7   824.6   743.0   357.5   \n1        KERALA  1902   6.7   2.6  57.3   83.9  134.5   390.9  1205.0   315.8   \n2        KERALA  1903   3.2  18.6   3.1   83.6  249.7   558.6  1022.5   420.2   \n3        KERALA  1904  23.7   3.0  32.2   71.5  235.7  1098.2   725.5   351.8   \n4        KERALA  1905   1.2  22.3   9.4  105.9  263.3   850.2   520.5   293.6   \n..          ...   ...   ...   ...   ...    ...    ...     ...     ...     ...   \n113      KERALA  2014   4.6  10.3  17.9   95.7  251.0   454.4   677.8   733.9   \n114      KERALA  2015   3.1   5.8  50.1  214.1  201.8   563.6   406.0   252.2   \n115      KERALA  2016   2.4   3.8  35.9  143.0  186.4   522.2   412.3   325.5   \n116     KERALA   2017   1.9   6.8   8.9   43.6  173.5   498.5   319.6   531.8   \n117      KERALA  2018  29.1  52.1  48.6  116.4  183.8   625.4  1048.5  1398.9   \n\n       SEP    OCT    NOV    DEC   ANNUAL RAINFALL FLOODS  \n0    197.7  266.9  350.8   48.4            3248.6    YES  \n1    491.6  358.4  158.3  121.5            3326.6    YES  \n2    341.8  354.1  157.0   59.0            3271.2    YES  \n3    222.7  328.1   33.9    3.3            3129.7    YES  \n4    217.2  383.5   74.4    0.2            2741.6     NO  \n..     ...    ...    ...    ...               ...    ...  \n113  298.8  355.5   99.5   47.2            3046.4    YES  \n114  292.9  308.1  223.6   79.4            2600.6     NO  \n115  173.2  225.9  125.4   23.6            2176.6     NO  \n116  209.5  192.4   92.5   38.1            2117.1     NO  \n117  423.6  356.1  125.4   65.1            4473.0    YES  \n\n[118 rows x 16 columns]\n"
          ]
        }
      ]
    },
    {
      "cell_type": "markdown",
      "metadata": {
        "id": "jqipwm31bqGg",
        "colab_type": "text"
      },
      "source": [
        "## Some minor tweaking"
      ]
    },
    {
      "cell_type": "code",
      "metadata": {
        "id": "HCvyD84_bLnx",
        "colab_type": "code",
        "colab": {}
      },
      "source": [
        "data['FLOODS'].replace(['YES','NO'],[1,0],inplace=True)"
      ],
      "execution_count": 6,
      "outputs": []
    },
    {
      "cell_type": "code",
      "metadata": {
        "id": "QYMe0KBXbuP9",
        "colab_type": "code",
        "outputId": "b1c68c6c-8888-4841-8456-e9efc75b705c",
        "colab": {
          "base_uri": "https://localhost:8080/",
          "height": 271
        }
      },
      "source": [
        "print(data)"
      ],
      "execution_count": 7,
      "outputs": [
        {
          "output_type": "stream",
          "name": "stdout",
          "text": [
            "    SUBDIVISION  YEAR   JAN   FEB   MAR    APR    MAY     JUN     JUL     AUG  \\\n0        KERALA  1901  28.7  44.7  51.6  160.0  174.7   824.6   743.0   357.5   \n1        KERALA  1902   6.7   2.6  57.3   83.9  134.5   390.9  1205.0   315.8   \n2        KERALA  1903   3.2  18.6   3.1   83.6  249.7   558.6  1022.5   420.2   \n3        KERALA  1904  23.7   3.0  32.2   71.5  235.7  1098.2   725.5   351.8   \n4        KERALA  1905   1.2  22.3   9.4  105.9  263.3   850.2   520.5   293.6   \n..          ...   ...   ...   ...   ...    ...    ...     ...     ...     ...   \n113      KERALA  2014   4.6  10.3  17.9   95.7  251.0   454.4   677.8   733.9   \n114      KERALA  2015   3.1   5.8  50.1  214.1  201.8   563.6   406.0   252.2   \n115      KERALA  2016   2.4   3.8  35.9  143.0  186.4   522.2   412.3   325.5   \n116     KERALA   2017   1.9   6.8   8.9   43.6  173.5   498.5   319.6   531.8   \n117      KERALA  2018  29.1  52.1  48.6  116.4  183.8   625.4  1048.5  1398.9   \n\n       SEP    OCT    NOV    DEC   ANNUAL RAINFALL  FLOODS  \n0    197.7  266.9  350.8   48.4            3248.6       1  \n1    491.6  358.4  158.3  121.5            3326.6       1  \n2    341.8  354.1  157.0   59.0            3271.2       1  \n3    222.7  328.1   33.9    3.3            3129.7       1  \n4    217.2  383.5   74.4    0.2            2741.6       0  \n..     ...    ...    ...    ...               ...     ...  \n113  298.8  355.5   99.5   47.2            3046.4       1  \n114  292.9  308.1  223.6   79.4            2600.6       0  \n115  173.2  225.9  125.4   23.6            2176.6       0  \n116  209.5  192.4   92.5   38.1            2117.1       0  \n117  423.6  356.1  125.4   65.1            4473.0       1  \n\n[118 rows x 16 columns]\n"
          ]
        }
      ]
    },
    {
      "cell_type": "markdown",
      "metadata": {
        "id": "TGV1FiiRcE38",
        "colab_type": "text"
      },
      "source": [
        "Separating the rainfalls for every month and the outcome"
      ]
    },
    {
      "cell_type": "code",
      "metadata": {
        "id": "POLJrpV3bzWD",
        "colab_type": "code",
        "outputId": "696f933b-ba00-4cd9-cb8f-6c106dac6a0d",
        "colab": {
          "base_uri": "https://localhost:8080/",
          "height": 271
        }
      },
      "source": [
        "x=data.iloc[:,1:14]\n",
        "print(x)"
      ],
      "execution_count": 8,
      "outputs": [
        {
          "output_type": "stream",
          "name": "stdout",
          "text": [
            "     YEAR   JAN   FEB   MAR    APR    MAY     JUN     JUL     AUG    SEP  \\\n0    1901  28.7  44.7  51.6  160.0  174.7   824.6   743.0   357.5  197.7   \n1    1902   6.7   2.6  57.3   83.9  134.5   390.9  1205.0   315.8  491.6   \n2    1903   3.2  18.6   3.1   83.6  249.7   558.6  1022.5   420.2  341.8   \n3    1904  23.7   3.0  32.2   71.5  235.7  1098.2   725.5   351.8  222.7   \n4    1905   1.2  22.3   9.4  105.9  263.3   850.2   520.5   293.6  217.2   \n..    ...   ...   ...   ...    ...    ...     ...     ...     ...    ...   \n113  2014   4.6  10.3  17.9   95.7  251.0   454.4   677.8   733.9  298.8   \n114  2015   3.1   5.8  50.1  214.1  201.8   563.6   406.0   252.2  292.9   \n115  2016   2.4   3.8  35.9  143.0  186.4   522.2   412.3   325.5  173.2   \n116  2017   1.9   6.8   8.9   43.6  173.5   498.5   319.6   531.8  209.5   \n117  2018  29.1  52.1  48.6  116.4  183.8   625.4  1048.5  1398.9  423.6   \n\n       OCT    NOV    DEC  \n0    266.9  350.8   48.4  \n1    358.4  158.3  121.5  \n2    354.1  157.0   59.0  \n3    328.1   33.9    3.3  \n4    383.5   74.4    0.2  \n..     ...    ...    ...  \n113  355.5   99.5   47.2  \n114  308.1  223.6   79.4  \n115  225.9  125.4   23.6  \n116  192.4   92.5   38.1  \n117  356.1  125.4   65.1  \n\n[118 rows x 13 columns]\n"
          ]
        }
      ]
    },
    {
      "cell_type": "code",
      "metadata": {
        "id": "_zPJ_WLBb6If",
        "colab_type": "code",
        "outputId": "d09e5f1e-328c-45bc-8cd4-11e08199d681",
        "colab": {
          "base_uri": "https://localhost:8080/",
          "height": 235
        }
      },
      "source": [
        "y=data.iloc[:,-1]\n",
        "print(y)"
      ],
      "execution_count": 9,
      "outputs": [
        {
          "output_type": "stream",
          "name": "stdout",
          "text": [
            "0      1\n1      1\n2      1\n3      1\n4      0\n      ..\n113    1\n114    0\n115    0\n116    0\n117    1\nName: FLOODS, Length: 118, dtype: int64\n"
          ]
        }
      ]
    },
    {
      "cell_type": "markdown",
      "metadata": {
        "id": "isHwx1jociBu",
        "colab_type": "text"
      },
      "source": [
        "# Time to build our predictors"
      ]
    },
    {
      "cell_type": "code",
      "metadata": {
        "id": "ddSz7DOecQhs",
        "colab_type": "code",
        "outputId": "e8a5e6be-4ac8-4f22-f6ee-f34e837f70f8",
        "colab": {
          "base_uri": "https://localhost:8080/",
          "height": 253
        }
      },
      "source": [
        "minmax=preprocessing.MinMaxScaler(feature_range=(0,1))\n",
        "minmax.fit(x).transform(x)"
      ],
      "execution_count": 10,
      "outputs": [
        {
          "output_type": "execute_result",
          "data": {
            "text/plain": [
              "array([[0.        , 0.34371257, 0.56582278, ..., 0.39727673, 0.95570189,\n",
              "        0.2388724 ],\n",
              "       [0.00854701, 0.08023952, 0.03291139, ..., 0.5804966 , 0.37952709,\n",
              "        0.60039565],\n",
              "       [0.01709402, 0.03832335, 0.23544304, ..., 0.57188626, 0.37563604,\n",
              "        0.29129575],\n",
              "       ...,\n",
              "       [0.98290598, 0.02874251, 0.04810127, ..., 0.31517821, 0.28105358,\n",
              "        0.11622156],\n",
              "       [0.99145299, 0.02275449, 0.08607595, ..., 0.24809772, 0.18258007,\n",
              "        0.18793274],\n",
              "       [1.        , 0.34850299, 0.65949367, ..., 0.57589107, 0.28105358,\n",
              "        0.3214639 ]])"
            ]
          },
          "metadata": {},
          "execution_count": 10
        }
      ]
    },
    {
      "cell_type": "code",
      "metadata": {
        "id": "14lI2wTNc2yJ",
        "colab_type": "code",
        "colab": {}
      },
      "source": [
        "x_train,x_test,y_train,y_test=train_test_split(x,y,test_size=0.2)"
      ],
      "execution_count": 11,
      "outputs": []
    },
    {
      "cell_type": "markdown",
      "metadata": {
        "id": "2KdyKH2tdUGU",
        "colab_type": "text"
      },
      "source": [
        "### Lets use K-Neareast Neighbours\n"
      ]
    },
    {
      "cell_type": "code",
      "metadata": {
        "id": "con8MwfNdZP4",
        "colab_type": "code",
        "outputId": "de61a2a8-a361-477b-acc4-ac981fe2869f",
        "colab": {
          "base_uri": "https://localhost:8080/",
          "height": 72
        }
      },
      "source": [
        "clf=neighbors.KNeighborsClassifier()\n",
        "clf.fit(x_train,y_train)"
      ],
      "execution_count": 12,
      "outputs": [
        {
          "output_type": "execute_result",
          "data": {
            "text/plain": [
              "KNeighborsClassifier()"
            ]
          },
          "metadata": {},
          "execution_count": 12
        }
      ]
    },
    {
      "cell_type": "code",
      "metadata": {
        "id": "R5NnhF3qdZtQ",
        "colab_type": "code",
        "outputId": "cf48654e-3dd1-47e3-9b2a-63d94036cfa6",
        "colab": {
          "base_uri": "https://localhost:8080/",
          "height": 53
        }
      },
      "source": [
        "y_predict=clf.predict(x_test)\n",
        "y_predict"
      ],
      "execution_count": 13,
      "outputs": [
        {
          "output_type": "execute_result",
          "data": {
            "text/plain": [
              "array([0, 0, 0, 1, 1, 0, 0, 1, 0, 0, 1, 1, 0, 0, 1, 1, 0, 1, 1, 1, 0, 0,\n",
              "       0, 1], dtype=int64)"
            ]
          },
          "metadata": {},
          "execution_count": 13
        }
      ]
    },
    {
      "cell_type": "code",
      "metadata": {
        "id": "uuCdR5lNdekN",
        "colab_type": "code",
        "colab": {}
      },
      "source": [
        "x_train_std=minmax.fit_transform(x_train)\n",
        "x_test_std=minmax.fit_transform(x_test)\n",
        "knn_acc=cross_val_score(clf,x_train_std,y_train,cv=3,scoring='accuracy',n_jobs=-1)\n",
        "knn_proba=cross_val_predict(clf,x_train_std,y_train,cv=3,method='predict_proba')"
      ],
      "execution_count": 14,
      "outputs": []
    },
    {
      "cell_type": "code",
      "metadata": {
        "id": "mHk2cfdRdh9P",
        "colab_type": "code",
        "outputId": "dee20bec-8ca5-4a37-885c-54b154b3e877",
        "colab": {
          "base_uri": "https://localhost:8080/",
          "height": 35
        }
      },
      "source": [
        "print(knn_acc)"
      ],
      "execution_count": 15,
      "outputs": [
        {
          "output_type": "stream",
          "name": "stdout",
          "text": [
            "[0.78125    0.70967742 0.74193548]\n"
          ]
        }
      ]
    },
    {
      "cell_type": "code",
      "metadata": {
        "id": "DI1wUcEqdm1g",
        "colab_type": "code",
        "outputId": "1c7b5b99-90dd-4036-a47b-f066d8ada407",
        "colab": {
          "base_uri": "https://localhost:8080/",
          "height": 1000
        }
      },
      "source": [
        "print(knn_proba)"
      ],
      "execution_count": 16,
      "outputs": [
        {
          "output_type": "stream",
          "name": "stdout",
          "text": [
            "[[0.4 0.6]\n [0.6 0.4]\n [0.8 0.2]\n [1.  0. ]\n [0.2 0.8]\n [0.4 0.6]\n [0.8 0.2]\n [0.6 0.4]\n [0.6 0.4]\n [1.  0. ]\n [0.8 0.2]\n [0.6 0.4]\n [0.8 0.2]\n [0.6 0.4]\n [0.2 0.8]\n [0.8 0.2]\n [0.4 0.6]\n [0.4 0.6]\n [0.4 0.6]\n [0.6 0.4]\n [0.4 0.6]\n [0.8 0.2]\n [0.2 0.8]\n [0.2 0.8]\n [0.8 0.2]\n [1.  0. ]\n [0.6 0.4]\n [0.6 0.4]\n [0.2 0.8]\n [1.  0. ]\n [0.6 0.4]\n [0.8 0.2]\n [1.  0. ]\n [0.4 0.6]\n [0.4 0.6]\n [0.8 0.2]\n [1.  0. ]\n [0.4 0.6]\n [0.  1. ]\n [0.2 0.8]\n [0.  1. ]\n [0.6 0.4]\n [0.6 0.4]\n [0.6 0.4]\n [0.2 0.8]\n [0.4 0.6]\n [0.4 0.6]\n [1.  0. ]\n [0.8 0.2]\n [0.8 0.2]\n [1.  0. ]\n [0.8 0.2]\n [0.2 0.8]\n [0.2 0.8]\n [0.8 0.2]\n [0.8 0.2]\n [0.2 0.8]\n [1.  0. ]\n [0.2 0.8]\n [1.  0. ]\n [0.6 0.4]\n [0.4 0.6]\n [1.  0. ]\n [0.2 0.8]\n [0.2 0.8]\n [1.  0. ]\n [0.6 0.4]\n [0.4 0.6]\n [0.2 0.8]\n [0.4 0.6]\n [0.6 0.4]\n [0.4 0.6]\n [0.6 0.4]\n [0.4 0.6]\n [0.6 0.4]\n [0.  1. ]\n [0.8 0.2]\n [0.4 0.6]\n [0.6 0.4]\n [0.6 0.4]\n [0.4 0.6]\n [0.8 0.2]\n [0.8 0.2]\n [0.6 0.4]\n [0.  1. ]\n [0.2 0.8]\n [0.6 0.4]\n [0.2 0.8]\n [0.2 0.8]\n [0.6 0.4]\n [1.  0. ]\n [0.6 0.4]\n [0.4 0.6]\n [0.8 0.2]]\n"
          ]
        }
      ]
    },
    {
      "cell_type": "code",
      "metadata": {
        "id": "GGzYdIUfeH5w",
        "colab_type": "code",
        "outputId": "90065511-0b98-4098-d77d-28cd8320a598",
        "colab": {
          "base_uri": "https://localhost:8080/",
          "height": 108
        }
      },
      "source": [
        "print(\"Accuracy Score:%f\"%(accuracy_score(y_test,y_predict)*100))\n",
        "print(\"Recall Score:%f\"%(recall_score(y_test,y_predict)*100))\n",
        "print(\"ROC score:%f\"%(roc_auc_score(y_test,y_predict)*100))\n",
        "print(confusion_matrix(y_test,y_predict))"
      ],
      "execution_count": 17,
      "outputs": [
        {
          "output_type": "stream",
          "name": "stdout",
          "text": [
            "Accuracy Score:95.833333\nRecall Score:91.666667\nROC score:95.833333\n[[12  0]\n [ 1 11]]\n"
          ]
        }
      ]
    },
    {
      "cell_type": "markdown",
      "metadata": {
        "id": "ZmIEjyNseiFa",
        "colab_type": "text"
      },
      "source": [
        "## Now Lets Apply Logistic Regression"
      ]
    },
    {
      "cell_type": "code",
      "metadata": {
        "id": "B9E6JKdBeW1P",
        "colab_type": "code",
        "colab": {}
      },
      "source": [
        "x_train_std=minmax.fit_transform(x_train)#It is used to fit the values in between 0 and 1\n",
        "y_train_std=minmax.transform(x_test)"
      ],
      "execution_count": 18,
      "outputs": []
    },
    {
      "cell_type": "code",
      "metadata": {
        "id": "bJcnRG1gevEt",
        "colab_type": "code",
        "outputId": "e6b90d37-21b0-4951-ea7e-948eed7cf52f",
        "colab": {
          "base_uri": "https://localhost:8080/",
          "height": 162
        }
      },
      "source": [
        "lr=LogisticRegression()\n",
        "lr.fit(x_train,y_train)\n",
        "lr_acc=cross_val_score(lr,x_train_std,y_train,cv=3,scoring='accuracy',n_jobs=-1)\n",
        "lr_proba=cross_val_predict(lr,x_train_std,y_train,cv=3,method='predict_proba')"
      ],
      "execution_count": 19,
      "outputs": [
        {
          "output_type": "stream",
          "name": "stderr",
          "text": [
            "C:\\ProgramData\\Anaconda3\\lib\\site-packages\\sklearn\\linear_model\\_logistic.py:762: ConvergenceWarning: lbfgs failed to converge (status=1):\nSTOP: TOTAL NO. of ITERATIONS REACHED LIMIT.\n\nIncrease the number of iterations (max_iter) or scale the data as shown in:\n    https://scikit-learn.org/stable/modules/preprocessing.html\nPlease also refer to the documentation for alternative solver options:\n    https://scikit-learn.org/stable/modules/linear_model.html#logistic-regression\n  n_iter_i = _check_optimize_result(\n"
          ]
        }
      ]
    },
    {
      "cell_type": "code",
      "metadata": {
        "id": "0xrIz-ixgTwX",
        "colab_type": "code",
        "outputId": "b4bb6540-8b48-4b82-bdb7-38f550127a30",
        "colab": {
          "base_uri": "https://localhost:8080/",
          "height": 35
        }
      },
      "source": [
        "y_pred=lr.predict(x_test)\n",
        "print(y_pred)"
      ],
      "execution_count": 20,
      "outputs": [
        {
          "output_type": "stream",
          "name": "stdout",
          "text": [
            "[0 1 0 1 1 1 0 1 0 0 1 1 0 0 1 1 0 1 1 1 0 0 0 1]\n"
          ]
        }
      ]
    },
    {
      "cell_type": "code",
      "metadata": {
        "id": "VaG8GKJ_fPwx",
        "colab_type": "code",
        "outputId": "cfef9377-1195-4a1c-9743-c7a4904351ee",
        "colab": {
          "base_uri": "https://localhost:8080/",
          "height": 35
        }
      },
      "source": [
        "lr_acc"
      ],
      "execution_count": 21,
      "outputs": [
        {
          "output_type": "execute_result",
          "data": {
            "text/plain": [
              "array([0.875     , 0.93548387, 0.80645161])"
            ]
          },
          "metadata": {},
          "execution_count": 21
        }
      ]
    },
    {
      "cell_type": "code",
      "metadata": {
        "id": "vEM5p-G8fQbc",
        "colab_type": "code",
        "outputId": "ab2f5d11-9667-4e3b-dcd9-85e0348e0918",
        "colab": {
          "base_uri": "https://localhost:8080/",
          "height": 1000
        }
      },
      "source": [
        "lr_proba"
      ],
      "execution_count": 22,
      "outputs": [
        {
          "output_type": "execute_result",
          "data": {
            "text/plain": [
              "array([[0.36019003, 0.63980997],\n",
              "       [0.58793074, 0.41206926],\n",
              "       [0.57005351, 0.42994649],\n",
              "       [0.70279641, 0.29720359],\n",
              "       [0.51428553, 0.48571447],\n",
              "       [0.47006795, 0.52993205],\n",
              "       [0.62181206, 0.37818794],\n",
              "       [0.65044941, 0.34955059],\n",
              "       [0.57181255, 0.42818745],\n",
              "       [0.80495086, 0.19504914],\n",
              "       [0.6815742 , 0.3184258 ],\n",
              "       [0.53216546, 0.46783454],\n",
              "       [0.66583262, 0.33416738],\n",
              "       [0.43412251, 0.56587749],\n",
              "       [0.37577654, 0.62422346],\n",
              "       [0.37523227, 0.62476773],\n",
              "       [0.22856933, 0.77143067],\n",
              "       [0.48973734, 0.51026266],\n",
              "       [0.28250856, 0.71749144],\n",
              "       [0.49487919, 0.50512081],\n",
              "       [0.36412116, 0.63587884],\n",
              "       [0.74898721, 0.25101279],\n",
              "       [0.36891085, 0.63108915],\n",
              "       [0.28766584, 0.71233416],\n",
              "       [0.64515518, 0.35484482],\n",
              "       [0.66379224, 0.33620776],\n",
              "       [0.59797376, 0.40202624],\n",
              "       [0.43923427, 0.56076573],\n",
              "       [0.30390114, 0.69609886],\n",
              "       [0.57836522, 0.42163478],\n",
              "       [0.58234739, 0.41765261],\n",
              "       [0.34761595, 0.65238405],\n",
              "       [0.80503509, 0.19496491],\n",
              "       [0.52034967, 0.47965033],\n",
              "       [0.46016603, 0.53983397],\n",
              "       [0.59613717, 0.40386283],\n",
              "       [0.83972359, 0.16027641],\n",
              "       [0.53714813, 0.46285187],\n",
              "       [0.10249234, 0.89750766],\n",
              "       [0.29998203, 0.70001797],\n",
              "       [0.15171699, 0.84828301],\n",
              "       [0.30167874, 0.69832126],\n",
              "       [0.6766738 , 0.3233262 ],\n",
              "       [0.58065316, 0.41934684],\n",
              "       [0.40676796, 0.59323204],\n",
              "       [0.50768261, 0.49231739],\n",
              "       [0.33886546, 0.66113454],\n",
              "       [0.48419537, 0.51580463],\n",
              "       [0.73688887, 0.26311113],\n",
              "       [0.44470024, 0.55529976],\n",
              "       [0.77151932, 0.22848068],\n",
              "       [0.47991476, 0.52008524],\n",
              "       [0.38050625, 0.61949375],\n",
              "       [0.40446162, 0.59553838],\n",
              "       [0.42163954, 0.57836046],\n",
              "       [0.7004749 , 0.2995251 ],\n",
              "       [0.55039221, 0.44960779],\n",
              "       [0.4027127 , 0.5972873 ],\n",
              "       [0.28217517, 0.71782483],\n",
              "       [0.75831362, 0.24168638],\n",
              "       [0.42872954, 0.57127046],\n",
              "       [0.43201118, 0.56798882],\n",
              "       [0.59670597, 0.40329403],\n",
              "       [0.24406851, 0.75593149],\n",
              "       [0.33293107, 0.66706893],\n",
              "       [0.71985094, 0.28014906],\n",
              "       [0.49933787, 0.50066213],\n",
              "       [0.36452033, 0.63547967],\n",
              "       [0.33947933, 0.66052067],\n",
              "       [0.37696445, 0.62303555],\n",
              "       [0.64125062, 0.35874938],\n",
              "       [0.56959503, 0.43040497],\n",
              "       [0.60493654, 0.39506346],\n",
              "       [0.39533159, 0.60466841],\n",
              "       [0.50121706, 0.49878294],\n",
              "       [0.13129012, 0.86870988],\n",
              "       [0.6797758 , 0.3202242 ],\n",
              "       [0.38599628, 0.61400372],\n",
              "       [0.5545514 , 0.4454486 ],\n",
              "       [0.59538971, 0.40461029],\n",
              "       [0.49330637, 0.50669363],\n",
              "       [0.44149949, 0.55850051],\n",
              "       [0.76100398, 0.23899602],\n",
              "       [0.37201255, 0.62798745],\n",
              "       [0.10233296, 0.89766704],\n",
              "       [0.47956479, 0.52043521],\n",
              "       [0.72712705, 0.27287295],\n",
              "       [0.16009011, 0.83990989],\n",
              "       [0.34806824, 0.65193176],\n",
              "       [0.51699667, 0.48300333],\n",
              "       [0.58519272, 0.41480728],\n",
              "       [0.36127553, 0.63872447],\n",
              "       [0.43186391, 0.56813609],\n",
              "       [0.6369448 , 0.3630552 ]])"
            ]
          },
          "metadata": {},
          "execution_count": 22
        }
      ]
    },
    {
      "cell_type": "code",
      "metadata": {
        "id": "ZECAwh5VfTAx",
        "colab_type": "code",
        "outputId": "f0364d53-0d4a-4fb2-c21a-5c2a22bd2c63",
        "colab": {
          "base_uri": "https://localhost:8080/",
          "height": 108
        }
      },
      "source": [
        "print(\"Accuracy score:%f\"%(accuracy_score(y_test,y_pred)*100))\n",
        "print(\"recall score:%f\"%(recall_score(y_test,y_pred)*100))\n",
        "print(\"roc score:%f\"%(roc_auc_score(y_test,y_pred)*100))\n",
        "print(confusion_matrix(y_test,y_pred))"
      ],
      "execution_count": 23,
      "outputs": [
        {
          "output_type": "stream",
          "name": "stdout",
          "text": [
            "Accuracy score:95.833333\nrecall score:100.000000\nroc score:95.833333\n[[11  1]\n [ 0 12]]\n"
          ]
        }
      ]
    },
    {
      "cell_type": "markdown",
      "metadata": {
        "id": "ku8WBRRWfeE6",
        "colab_type": "text"
      },
      "source": [
        "#### Now Lets apply SVM"
      ]
    },
    {
      "cell_type": "code",
      "metadata": {
        "id": "56kqtZ4MfbmJ",
        "colab_type": "code",
        "colab": {}
      },
      "source": [
        "svc=SVC(kernel='rbf',probability=True)\n",
        "svc_classifier=svc.fit(x_train,y_train)\n",
        "svc_acc=cross_val_score(svc_classifier,x_train_std,y_train,cv=3,scoring=\"accuracy\",n_jobs=-1)\n",
        "svc_proba=cross_val_predict(svc_classifier,x_train_std,y_train,cv=3,method='predict_proba')"
      ],
      "execution_count": 24,
      "outputs": []
    },
    {
      "cell_type": "code",
      "metadata": {
        "id": "oqGTrk6ogcV-",
        "colab_type": "code",
        "outputId": "11682687-57f4-4dbe-ba1f-676db2e366c2",
        "colab": {
          "base_uri": "https://localhost:8080/",
          "height": 35
        }
      },
      "source": [
        "svc_acc"
      ],
      "execution_count": 25,
      "outputs": [
        {
          "output_type": "execute_result",
          "data": {
            "text/plain": [
              "array([0.8125    , 0.83870968, 0.74193548])"
            ]
          },
          "metadata": {},
          "execution_count": 25
        }
      ]
    },
    {
      "cell_type": "code",
      "metadata": {
        "id": "kpSYabKkggia",
        "colab_type": "code",
        "outputId": "5cbd8178-02ef-4fde-b2bc-39e0db992bcd",
        "colab": {
          "base_uri": "https://localhost:8080/",
          "height": 1000
        }
      },
      "source": [
        "svc_proba"
      ],
      "execution_count": 26,
      "outputs": [
        {
          "output_type": "execute_result",
          "data": {
            "text/plain": [
              "array([[8.69036518e-02, 9.13096348e-01],\n",
              "       [7.65778069e-01, 2.34221931e-01],\n",
              "       [8.33220849e-01, 1.66779151e-01],\n",
              "       [9.86916184e-01, 1.30838156e-02],\n",
              "       [5.35255774e-01, 4.64744226e-01],\n",
              "       [3.89843359e-01, 6.10156641e-01],\n",
              "       [8.38313178e-01, 1.61686822e-01],\n",
              "       [9.01662967e-01, 9.83370331e-02],\n",
              "       [8.14488752e-01, 1.85511248e-01],\n",
              "       [9.98159435e-01, 1.84056491e-03],\n",
              "       [8.20146251e-01, 1.79853749e-01],\n",
              "       [6.34976949e-01, 3.65023051e-01],\n",
              "       [8.08073150e-01, 1.91926850e-01],\n",
              "       [3.12586150e-01, 6.87413850e-01],\n",
              "       [5.50752878e-02, 9.44924712e-01],\n",
              "       [3.05406169e-01, 6.94593831e-01],\n",
              "       [1.22598250e-01, 8.77401750e-01],\n",
              "       [3.93928932e-01, 6.06071068e-01],\n",
              "       [1.21649652e-01, 8.78350348e-01],\n",
              "       [5.49377219e-01, 4.50622781e-01],\n",
              "       [1.17664687e-01, 8.82335313e-01],\n",
              "       [9.88419432e-01, 1.15805679e-02],\n",
              "       [1.90285683e-01, 8.09714317e-01],\n",
              "       [9.04205425e-02, 9.09579457e-01],\n",
              "       [8.78068425e-01, 1.21931575e-01],\n",
              "       [9.83503361e-01, 1.64966390e-02],\n",
              "       [8.68679881e-01, 1.31320119e-01],\n",
              "       [3.52465502e-01, 6.47534498e-01],\n",
              "       [5.68146370e-02, 9.43185363e-01],\n",
              "       [8.72446544e-01, 1.27553456e-01],\n",
              "       [5.40741285e-01, 4.59258715e-01],\n",
              "       [9.69410897e-02, 9.03058910e-01],\n",
              "       [9.89013137e-01, 1.09868631e-02],\n",
              "       [2.43495267e-01, 7.56504733e-01],\n",
              "       [3.51717112e-01, 6.48282888e-01],\n",
              "       [7.42269405e-01, 2.57730595e-01],\n",
              "       [9.92545822e-01, 7.45417828e-03],\n",
              "       [3.11290203e-01, 6.88709797e-01],\n",
              "       [5.51812409e-03, 9.94481876e-01],\n",
              "       [4.32396019e-02, 9.56760398e-01],\n",
              "       [4.24791585e-02, 9.57520841e-01],\n",
              "       [3.01867547e-02, 9.69813245e-01],\n",
              "       [6.34350887e-01, 3.65649113e-01],\n",
              "       [6.18409892e-01, 3.81590108e-01],\n",
              "       [7.11570109e-02, 9.28842989e-01],\n",
              "       [3.64495744e-01, 6.35504256e-01],\n",
              "       [2.04829352e-02, 9.79517065e-01],\n",
              "       [5.20115832e-01, 4.79884168e-01],\n",
              "       [9.82283318e-01, 1.77166821e-02],\n",
              "       [6.38903487e-01, 3.61096513e-01],\n",
              "       [9.90618711e-01, 9.38128888e-03],\n",
              "       [3.44574751e-01, 6.55425249e-01],\n",
              "       [9.21875152e-02, 9.07812485e-01],\n",
              "       [7.71581260e-02, 9.22841874e-01],\n",
              "       [3.45318891e-01, 6.54681109e-01],\n",
              "       [8.70286539e-01, 1.29713461e-01],\n",
              "       [1.51099008e-01, 8.48900992e-01],\n",
              "       [4.78529594e-01, 5.21470406e-01],\n",
              "       [2.80582024e-02, 9.71941798e-01],\n",
              "       [9.75070094e-01, 2.49299057e-02],\n",
              "       [1.43294446e-01, 8.56705554e-01],\n",
              "       [3.10730647e-01, 6.89269353e-01],\n",
              "       [8.74661086e-01, 1.25338914e-01],\n",
              "       [1.87788015e-01, 8.12211985e-01],\n",
              "       [2.00997000e-01, 7.99003000e-01],\n",
              "       [9.64104351e-01, 3.58956493e-02],\n",
              "       [4.53041648e-01, 5.46958352e-01],\n",
              "       [2.24696814e-01, 7.75303186e-01],\n",
              "       [1.28591812e-01, 8.71408188e-01],\n",
              "       [5.84906608e-02, 9.41509339e-01],\n",
              "       [9.49624162e-01, 5.03758376e-02],\n",
              "       [5.52661223e-01, 4.47338777e-01],\n",
              "       [8.47847759e-01, 1.52152241e-01],\n",
              "       [2.84044542e-01, 7.15955458e-01],\n",
              "       [5.72468388e-01, 4.27531612e-01],\n",
              "       [5.62992516e-06, 9.99994370e-01],\n",
              "       [9.35114057e-01, 6.48859429e-02],\n",
              "       [1.49615722e-01, 8.50384278e-01],\n",
              "       [5.12747956e-01, 4.87252044e-01],\n",
              "       [7.50041923e-01, 2.49958077e-01],\n",
              "       [3.73251767e-01, 6.26748233e-01],\n",
              "       [2.67843289e-01, 7.32156711e-01],\n",
              "       [9.49986552e-01, 5.00134478e-02],\n",
              "       [1.39604440e-01, 8.60395560e-01],\n",
              "       [3.25404145e-03, 9.96745959e-01],\n",
              "       [2.85573247e-01, 7.14426753e-01],\n",
              "       [9.17525712e-01, 8.24742885e-02],\n",
              "       [3.41839975e-02, 9.65816003e-01],\n",
              "       [3.50337209e-01, 6.49662791e-01],\n",
              "       [4.06897370e-01, 5.93102630e-01],\n",
              "       [7.71476915e-01, 2.28523085e-01],\n",
              "       [2.15224709e-01, 7.84775291e-01],\n",
              "       [2.93661685e-01, 7.06338315e-01],\n",
              "       [9.28977240e-01, 7.10227601e-02]])"
            ]
          },
          "metadata": {},
          "execution_count": 26
        }
      ]
    },
    {
      "cell_type": "code",
      "metadata": {
        "id": "bB5MM6OPgkkQ",
        "colab_type": "code",
        "outputId": "be8e222c-5d72-4003-a94c-32588b738f68",
        "colab": {
          "base_uri": "https://localhost:8080/",
          "height": 35
        }
      },
      "source": [
        "y_pred=svc_classifier.predict(x_test)\n",
        "print(y_pred)"
      ],
      "execution_count": 27,
      "outputs": [
        {
          "output_type": "stream",
          "name": "stdout",
          "text": [
            "[0 0 1 1 1 0 0 1 0 1 0 1 0 0 1 1 0 1 1 1 0 0 0 1]\n"
          ]
        }
      ]
    },
    {
      "cell_type": "code",
      "metadata": {
        "id": "R2o9gYZWgpwI",
        "colab_type": "code",
        "outputId": "5f6f16ad-e869-43f3-c093-999cf07d3051",
        "colab": {
          "base_uri": "https://localhost:8080/",
          "height": 126
        }
      },
      "source": [
        "print(\"\\naccuracy score:%f\"%(accuracy_score(y_test,y_pred)*100))\n",
        "print(\"recall score:%f\"%(recall_score(y_test,y_pred)*100))\n",
        "print(\"roc score:%f\"%(roc_auc_score(y_test,y_pred)*100))\n",
        "print(confusion_matrix(y_test,y_pred))"
      ],
      "execution_count": 28,
      "outputs": [
        {
          "output_type": "stream",
          "name": "stdout",
          "text": [
            "\naccuracy score:83.333333\nrecall score:83.333333\nroc score:83.333333\n[[10  2]\n [ 2 10]]\n"
          ]
        }
      ]
    },
    {
      "cell_type": "markdown",
      "metadata": {
        "id": "GDKO6U1kgxMQ",
        "colab_type": "text"
      },
      "source": [
        "#### Now Lets Use Decision Trees"
      ]
    },
    {
      "cell_type": "code",
      "metadata": {
        "id": "2a6SQTDBgt2J",
        "colab_type": "code",
        "outputId": "b4dbf6d9-f2e0-44f5-d73e-cb1917a77eef",
        "colab": {
          "base_uri": "https://localhost:8080/",
          "height": 35
        }
      },
      "source": [
        "dtc_clf=DecisionTreeClassifier()\n",
        "dtc_clf.fit(x_train,y_train)\n",
        "dtc_clf_acc=cross_val_score(dtc_clf,x_train_std,y_train,cv=3,scoring=\"accuracy\",n_jobs=-1)\n",
        "dtc_clf_acc"
      ],
      "execution_count": 29,
      "outputs": [
        {
          "output_type": "execute_result",
          "data": {
            "text/plain": [
              "array([0.5625    , 0.64516129, 0.61290323])"
            ]
          },
          "metadata": {},
          "execution_count": 29
        }
      ]
    },
    {
      "cell_type": "code",
      "metadata": {
        "id": "bVga6QjFg8gJ",
        "colab_type": "code",
        "outputId": "085fde2a-795a-4204-9584-8d88a19ad16f",
        "colab": {
          "base_uri": "https://localhost:8080/",
          "height": 35
        }
      },
      "source": [
        "y_pred=dtc_clf.predict(x_test)\n",
        "print(y_pred)"
      ],
      "execution_count": 30,
      "outputs": [
        {
          "output_type": "stream",
          "name": "stdout",
          "text": [
            "[0 1 1 0 1 1 0 1 0 1 1 1 0 0 0 1 0 1 0 1 0 0 0 1]\n"
          ]
        }
      ]
    },
    {
      "cell_type": "code",
      "metadata": {
        "id": "e9hHW_vUhCC4",
        "colab_type": "code",
        "outputId": "4b1c4016-cc5f-427e-aa61-59f8e87cd710",
        "colab": {
          "base_uri": "https://localhost:8080/",
          "height": 126
        }
      },
      "source": [
        "print(\"\\naccuracy score:%f\"%(accuracy_score(y_test,y_pred)*100))\n",
        "print(\"recall score:%f\"%(recall_score(y_test,y_pred)*100))\n",
        "print(\"roc score:%f\"%(roc_auc_score(y_test,y_pred)*100))\n",
        "print(confusion_matrix(y_test,y_pred))"
      ],
      "execution_count": 31,
      "outputs": [
        {
          "output_type": "stream",
          "name": "stdout",
          "text": [
            "\naccuracy score:75.000000\nrecall score:75.000000\nroc score:75.000000\n[[9 3]\n [3 9]]\n"
          ]
        }
      ]
    },
    {
      "cell_type": "markdown",
      "metadata": {
        "id": "AgnkYYTnhGbZ",
        "colab_type": "text"
      },
      "source": [
        "#### Now lets use Random Forests"
      ]
    },
    {
      "cell_type": "code",
      "metadata": {
        "id": "LzlJdlpchFpZ",
        "colab_type": "code",
        "outputId": "94876db4-0f53-4797-a259-4bfb37deae87",
        "colab": {
          "base_uri": "https://localhost:8080/",
          "height": 162
        }
      },
      "source": [
        "rmf=RandomForestClassifier(max_depth=3,random_state=0)\n",
        "rmf_clf=rmf.fit(x_train,y_train)\n",
        "rmf_clf"
      ],
      "execution_count": 32,
      "outputs": [
        {
          "output_type": "execute_result",
          "data": {
            "text/plain": [
              "RandomForestClassifier(max_depth=3, random_state=0)"
            ]
          },
          "metadata": {},
          "execution_count": 32
        }
      ]
    },
    {
      "cell_type": "code",
      "metadata": {
        "id": "eXHRW9TZhLoU",
        "colab_type": "code",
        "outputId": "646c1ccf-517d-48d0-fdd7-a12d55ac30a2",
        "colab": {
          "base_uri": "https://localhost:8080/",
          "height": 35
        }
      },
      "source": [
        "rmf_acc=cross_val_score(rmf_clf,x_train_std,y_train,cv=3,scoring=\"accuracy\",n_jobs=-1)\n",
        "print(rmf_acc)"
      ],
      "execution_count": 33,
      "outputs": [
        {
          "output_type": "stream",
          "name": "stdout",
          "text": [
            "[0.71875    0.67741935 0.74193548]\n"
          ]
        }
      ]
    },
    {
      "cell_type": "code",
      "metadata": {
        "id": "PaGScmghho8w",
        "colab_type": "code",
        "outputId": "d77fa5b8-cd9c-4b9f-8ef0-eacfbe76b056",
        "colab": {
          "base_uri": "https://localhost:8080/",
          "height": 1000
        }
      },
      "source": [
        "rmf_proba=cross_val_predict(rmf_clf,x_train_std,y_train,cv=3,method='predict_proba')\n",
        "print(rmf_proba)"
      ],
      "execution_count": 34,
      "outputs": [
        {
          "output_type": "stream",
          "name": "stdout",
          "text": [
            "[[0.37948848 0.62051152]\n [0.52706423 0.47293577]\n [0.64936803 0.35063197]\n [0.71798475 0.28201525]\n [0.56123106 0.43876894]\n [0.324961   0.675039  ]\n [0.59133234 0.40866766]\n [0.75169556 0.24830444]\n [0.42697117 0.57302883]\n [0.85178254 0.14821746]\n [0.62144239 0.37855761]\n [0.31155068 0.68844932]\n [0.56356234 0.43643766]\n [0.51558515 0.48441485]\n [0.38858836 0.61141164]\n [0.60495289 0.39504711]\n [0.2002371  0.7997629 ]\n [0.5831009  0.4168991 ]\n [0.33957907 0.66042093]\n [0.62072467 0.37927533]\n [0.33040172 0.66959828]\n [0.51993749 0.48006251]\n [0.55165748 0.44834252]\n [0.41303649 0.58696351]\n [0.45219498 0.54780502]\n [0.66631663 0.33368337]\n [0.63686674 0.36313326]\n [0.46874751 0.53125249]\n [0.23859119 0.76140881]\n [0.54534402 0.45465598]\n [0.45186782 0.54813218]\n [0.30202833 0.69797167]\n [0.64674727 0.35325273]\n [0.55240675 0.44759325]\n [0.41979193 0.58020807]\n [0.5683584  0.4316416 ]\n [0.80876362 0.19123638]\n [0.60042233 0.39957767]\n [0.22218102 0.77781898]\n [0.47210145 0.52789855]\n [0.27337024 0.72662976]\n [0.57293156 0.42706844]\n [0.68190881 0.31809119]\n [0.62068231 0.37931769]\n [0.44273427 0.55726573]\n [0.4468574  0.5531426 ]\n [0.55934686 0.44065314]\n [0.46472584 0.53527416]\n [0.87241007 0.12758993]\n [0.54637667 0.45362333]\n [0.64215987 0.35784013]\n [0.76972575 0.23027425]\n [0.45317319 0.54682681]\n [0.48549354 0.51450646]\n [0.35729704 0.64270296]\n [0.64928761 0.35071239]\n [0.55015528 0.44984472]\n [0.6022365  0.3977635 ]\n [0.57919777 0.42080223]\n [0.60338469 0.39661531]\n [0.27510256 0.72489744]\n [0.38335109 0.61664891]\n [0.80097805 0.19902195]\n [0.31433324 0.68566676]\n [0.37087683 0.62912317]\n [0.65311881 0.34688119]\n [0.39297557 0.60702443]\n [0.37581896 0.62418104]\n [0.30394031 0.69605969]\n [0.33380288 0.66619712]\n [0.47122817 0.52877183]\n [0.5350209  0.4649791 ]\n [0.63579869 0.36420131]\n [0.24817736 0.75182264]\n [0.49189664 0.50810336]\n [0.13929027 0.86070973]\n [0.62642136 0.37357864]\n [0.39580702 0.60419298]\n [0.61003555 0.38996445]\n [0.58984201 0.41015799]\n [0.41367532 0.58632468]\n [0.41125671 0.58874329]\n [0.65509684 0.34490316]\n [0.37650237 0.62349763]\n [0.17029477 0.82970523]\n [0.35828379 0.64171621]\n [0.60278045 0.39721955]\n [0.25314573 0.74685427]\n [0.3596295  0.6403705 ]\n [0.49961221 0.50038779]\n [0.63328296 0.36671704]\n [0.31850027 0.68149973]\n [0.36971488 0.63028512]\n [0.62492326 0.37507674]]\n"
          ]
        }
      ]
    },
    {
      "cell_type": "code",
      "metadata": {
        "id": "LiTaTvHUhsaI",
        "colab_type": "code",
        "outputId": "ed7ae473-2ff5-4935-8377-35ec27e22cd4",
        "colab": {
          "base_uri": "https://localhost:8080/",
          "height": 126
        }
      },
      "source": [
        "print(\"\\naccuracy score:%f\"%(accuracy_score(y_test,y_pred)*100))\n",
        "print(\"recall score:%f\"%(recall_score(y_test,y_pred)*100))\n",
        "print(\"roc score:%f\"%(roc_auc_score(y_test,y_pred)*100))\n",
        "print(confusion_matrix(y_test,y_pred))"
      ],
      "execution_count": 35,
      "outputs": [
        {
          "output_type": "stream",
          "name": "stdout",
          "text": [
            "\naccuracy score:75.000000\nrecall score:75.000000\nroc score:75.000000\n[[9 3]\n [3 9]]\n"
          ]
        }
      ]
    },
    {
      "cell_type": "markdown",
      "metadata": {
        "id": "bGn4ISpdiLHT",
        "colab_type": "text"
      },
      "source": [
        "#### Comparing our results"
      ]
    },
    {
      "cell_type": "code",
      "metadata": {
        "id": "Msy7P0bjh-WR",
        "colab_type": "code",
        "outputId": "f49d317b-3cd9-41a3-9c22-fa3077fc18f6",
        "colab": {
          "base_uri": "https://localhost:8080/",
          "height": 271
        }
      },
      "source": [
        "models = []\n",
        "models.append(('KNN', KNeighborsClassifier()))\n",
        "models.append(('LR', LogisticRegression()))\n",
        "models.append(('SVC', SVC()))\n",
        "models.append(('DT', DecisionTreeClassifier()))\n",
        "models.append(('RF', RandomForestClassifier()))\n",
        "names = []\n",
        "scores = []\n",
        "for name, model in models:\n",
        "    model.fit(x_train, y_train)\n",
        "    y_pred = model.predict(x_test)\n",
        "    scores.append(accuracy_score(y_test, y_pred))\n",
        "    names.append(name)\n",
        "tr_split = pd.DataFrame({'Name': names, 'Score': scores})\n",
        "print(tr_split)"
      ],
      "execution_count": 36,
      "outputs": [
        {
          "output_type": "stream",
          "name": "stdout",
          "text": [
            "  Name     Score\n",
            "0  KNN  0.958333\n",
            "1   LR  0.958333\n",
            "2  SVC  0.833333\n",
            "3   DT  0.750000\n",
            "4   RF  0.833333\n",
            "C:\\ProgramData\\Anaconda3\\lib\\site-packages\\sklearn\\linear_model\\_logistic.py:762: ConvergenceWarning: lbfgs failed to converge (status=1):\n",
            "STOP: TOTAL NO. of ITERATIONS REACHED LIMIT.\n",
            "\n",
            "Increase the number of iterations (max_iter) or scale the data as shown in:\n",
            "    https://scikit-learn.org/stable/modules/preprocessing.html\n",
            "Please also refer to the documentation for alternative solver options:\n",
            "    https://scikit-learn.org/stable/modules/linear_model.html#logistic-regression\n",
            "  n_iter_i = _check_optimize_result(\n"
          ]
        }
      ]
    },
    {
      "cell_type": "code",
      "metadata": {
        "id": "WT6ae8doiN-l",
        "colab_type": "code",
        "outputId": "ef7e5ae6-b5ec-4f20-a3a2-5c25dbd3f5e9",
        "colab": {
          "base_uri": "https://localhost:8080/",
          "height": 282
        }
      },
      "source": [
        "axis = sns.barplot(x = 'Name', y = 'Score', data =tr_split )\n",
        "axis.set(xlabel='Classifier', ylabel='Accuracy')\n",
        "for p in axis.patches:\n",
        "    height = p.get_height()\n",
        "    axis.text(p.get_x() + p.get_width()/2, height + 0.01, '{:1.4f}'.format(height), ha=\"center\") \n",
        "    \n",
        "plt.show()"
      ],
      "execution_count": 37,
      "outputs": [
        {
          "output_type": "display_data",
          "data": {
            "text/plain": "<Figure size 432x288 with 1 Axes>",
            "image/svg+xml": "<?xml version=\"1.0\" encoding=\"utf-8\" standalone=\"no\"?>\r\n<!DOCTYPE svg PUBLIC \"-//W3C//DTD SVG 1.1//EN\"\r\n  \"http://www.w3.org/Graphics/SVG/1.1/DTD/svg11.dtd\">\r\n<!-- Created with matplotlib (https://matplotlib.org/) -->\r\n<svg height=\"264.64491pt\" version=\"1.1\" viewBox=\"0 0 385.78125 264.64491\" width=\"385.78125pt\" xmlns=\"http://www.w3.org/2000/svg\" xmlns:xlink=\"http://www.w3.org/1999/xlink\">\r\n <metadata>\r\n  <rdf:RDF xmlns:cc=\"http://creativecommons.org/ns#\" xmlns:dc=\"http://purl.org/dc/elements/1.1/\" xmlns:rdf=\"http://www.w3.org/1999/02/22-rdf-syntax-ns#\">\r\n   <cc:Work>\r\n    <dc:type rdf:resource=\"http://purl.org/dc/dcmitype/StillImage\"/>\r\n    <dc:date>2021-05-23T22:34:13.147426</dc:date>\r\n    <dc:format>image/svg+xml</dc:format>\r\n    <dc:creator>\r\n     <cc:Agent>\r\n      <dc:title>Matplotlib v3.3.2, https://matplotlib.org/</dc:title>\r\n     </cc:Agent>\r\n    </dc:creator>\r\n   </cc:Work>\r\n  </rdf:RDF>\r\n </metadata>\r\n <defs>\r\n  <style type=\"text/css\">*{stroke-linecap:butt;stroke-linejoin:round;}</style>\r\n </defs>\r\n <g id=\"figure_1\">\r\n  <g id=\"patch_1\">\r\n   <path d=\"M 0 264.64491 \r\nL 385.78125 264.64491 \r\nL 385.78125 0 \r\nL 0 0 \r\nz\r\n\" style=\"fill:none;\"/>\r\n  </g>\r\n  <g id=\"axes_1\">\r\n   <g id=\"patch_2\">\r\n    <path d=\"M 43.78125 227.08866 \r\nL 378.58125 227.08866 \r\nL 378.58125 9.64866 \r\nL 43.78125 9.64866 \r\nz\r\n\" style=\"fill:#ffffff;\"/>\r\n   </g>\r\n   <g id=\"patch_3\">\r\n    <path clip-path=\"url(#p3245f3c89b)\" d=\"M 50.47725 227.08866 \r\nL 104.04525 227.08866 \r\nL 104.04525 20.002945 \r\nL 50.47725 20.002945 \r\nz\r\n\" style=\"fill:#3274a1;\"/>\r\n   </g>\r\n   <g id=\"patch_4\">\r\n    <path clip-path=\"url(#p3245f3c89b)\" d=\"M 117.43725 227.08866 \r\nL 171.00525 227.08866 \r\nL 171.00525 20.002945 \r\nL 117.43725 20.002945 \r\nz\r\n\" style=\"fill:#e1812c;\"/>\r\n   </g>\r\n   <g id=\"patch_5\">\r\n    <path clip-path=\"url(#p3245f3c89b)\" d=\"M 184.39725 227.08866 \r\nL 237.96525 227.08866 \r\nL 237.96525 47.014126 \r\nL 184.39725 47.014126 \r\nz\r\n\" style=\"fill:#3a923a;\"/>\r\n   </g>\r\n   <g id=\"patch_6\">\r\n    <path clip-path=\"url(#p3245f3c89b)\" d=\"M 251.35725 227.08866 \r\nL 304.92525 227.08866 \r\nL 304.92525 65.021579 \r\nL 251.35725 65.021579 \r\nz\r\n\" style=\"fill:#c03d3e;\"/>\r\n   </g>\r\n   <g id=\"patch_7\">\r\n    <path clip-path=\"url(#p3245f3c89b)\" d=\"M 318.31725 227.08866 \r\nL 371.88525 227.08866 \r\nL 371.88525 47.014126 \r\nL 318.31725 47.014126 \r\nz\r\n\" style=\"fill:#9372b2;\"/>\r\n   </g>\r\n   <g id=\"matplotlib.axis_1\">\r\n    <g id=\"xtick_1\">\r\n     <g id=\"line2d_1\">\r\n      <defs>\r\n       <path d=\"M 0 0 \r\nL 0 3.5 \r\n\" id=\"mbff8051b21\" style=\"stroke:#000000;stroke-width:0.8;\"/>\r\n      </defs>\r\n      <g>\r\n       <use style=\"stroke:#000000;stroke-width:0.8;\" x=\"77.26125\" xlink:href=\"#mbff8051b21\" y=\"227.08866\"/>\r\n      </g>\r\n     </g>\r\n     <g id=\"text_1\">\r\n      <!-- KNN -->\r\n      <g transform=\"translate(66.501094 241.687097)scale(0.1 -0.1)\">\r\n       <defs>\r\n        <path d=\"M 9.8125 72.90625 \r\nL 19.671875 72.90625 \r\nL 19.671875 42.09375 \r\nL 52.390625 72.90625 \r\nL 65.09375 72.90625 \r\nL 28.90625 38.921875 \r\nL 67.671875 0 \r\nL 54.6875 0 \r\nL 19.671875 35.109375 \r\nL 19.671875 0 \r\nL 9.8125 0 \r\nz\r\n\" id=\"DejaVuSans-75\"/>\r\n        <path d=\"M 9.8125 72.90625 \r\nL 23.09375 72.90625 \r\nL 55.421875 11.921875 \r\nL 55.421875 72.90625 \r\nL 64.984375 72.90625 \r\nL 64.984375 0 \r\nL 51.703125 0 \r\nL 19.390625 60.984375 \r\nL 19.390625 0 \r\nL 9.8125 0 \r\nz\r\n\" id=\"DejaVuSans-78\"/>\r\n       </defs>\r\n       <use xlink:href=\"#DejaVuSans-75\"/>\r\n       <use x=\"65.576172\" xlink:href=\"#DejaVuSans-78\"/>\r\n       <use x=\"140.380859\" xlink:href=\"#DejaVuSans-78\"/>\r\n      </g>\r\n     </g>\r\n    </g>\r\n    <g id=\"xtick_2\">\r\n     <g id=\"line2d_2\">\r\n      <g>\r\n       <use style=\"stroke:#000000;stroke-width:0.8;\" x=\"144.22125\" xlink:href=\"#mbff8051b21\" y=\"227.08866\"/>\r\n      </g>\r\n     </g>\r\n     <g id=\"text_2\">\r\n      <!-- LR -->\r\n      <g transform=\"translate(137.961094 241.687097)scale(0.1 -0.1)\">\r\n       <defs>\r\n        <path d=\"M 9.8125 72.90625 \r\nL 19.671875 72.90625 \r\nL 19.671875 8.296875 \r\nL 55.171875 8.296875 \r\nL 55.171875 0 \r\nL 9.8125 0 \r\nz\r\n\" id=\"DejaVuSans-76\"/>\r\n        <path d=\"M 44.390625 34.1875 \r\nQ 47.5625 33.109375 50.5625 29.59375 \r\nQ 53.5625 26.078125 56.59375 19.921875 \r\nL 66.609375 0 \r\nL 56 0 \r\nL 46.6875 18.703125 \r\nQ 43.0625 26.03125 39.671875 28.421875 \r\nQ 36.28125 30.8125 30.421875 30.8125 \r\nL 19.671875 30.8125 \r\nL 19.671875 0 \r\nL 9.8125 0 \r\nL 9.8125 72.90625 \r\nL 32.078125 72.90625 \r\nQ 44.578125 72.90625 50.734375 67.671875 \r\nQ 56.890625 62.453125 56.890625 51.90625 \r\nQ 56.890625 45.015625 53.6875 40.46875 \r\nQ 50.484375 35.9375 44.390625 34.1875 \r\nz\r\nM 19.671875 64.796875 \r\nL 19.671875 38.921875 \r\nL 32.078125 38.921875 \r\nQ 39.203125 38.921875 42.84375 42.21875 \r\nQ 46.484375 45.515625 46.484375 51.90625 \r\nQ 46.484375 58.296875 42.84375 61.546875 \r\nQ 39.203125 64.796875 32.078125 64.796875 \r\nz\r\n\" id=\"DejaVuSans-82\"/>\r\n       </defs>\r\n       <use xlink:href=\"#DejaVuSans-76\"/>\r\n       <use x=\"55.712891\" xlink:href=\"#DejaVuSans-82\"/>\r\n      </g>\r\n     </g>\r\n    </g>\r\n    <g id=\"xtick_3\">\r\n     <g id=\"line2d_3\">\r\n      <g>\r\n       <use style=\"stroke:#000000;stroke-width:0.8;\" x=\"211.18125\" xlink:href=\"#mbff8051b21\" y=\"227.08866\"/>\r\n      </g>\r\n     </g>\r\n     <g id=\"text_3\">\r\n      <!-- SVC -->\r\n      <g transform=\"translate(201.095313 241.687097)scale(0.1 -0.1)\">\r\n       <defs>\r\n        <path d=\"M 53.515625 70.515625 \r\nL 53.515625 60.890625 \r\nQ 47.90625 63.578125 42.921875 64.890625 \r\nQ 37.9375 66.21875 33.296875 66.21875 \r\nQ 25.25 66.21875 20.875 63.09375 \r\nQ 16.5 59.96875 16.5 54.203125 \r\nQ 16.5 49.359375 19.40625 46.890625 \r\nQ 22.3125 44.4375 30.421875 42.921875 \r\nL 36.375 41.703125 \r\nQ 47.40625 39.59375 52.65625 34.296875 \r\nQ 57.90625 29 57.90625 20.125 \r\nQ 57.90625 9.515625 50.796875 4.046875 \r\nQ 43.703125 -1.421875 29.984375 -1.421875 \r\nQ 24.8125 -1.421875 18.96875 -0.25 \r\nQ 13.140625 0.921875 6.890625 3.21875 \r\nL 6.890625 13.375 \r\nQ 12.890625 10.015625 18.65625 8.296875 \r\nQ 24.421875 6.59375 29.984375 6.59375 \r\nQ 38.421875 6.59375 43.015625 9.90625 \r\nQ 47.609375 13.234375 47.609375 19.390625 \r\nQ 47.609375 24.75 44.3125 27.78125 \r\nQ 41.015625 30.8125 33.5 32.328125 \r\nL 27.484375 33.5 \r\nQ 16.453125 35.6875 11.515625 40.375 \r\nQ 6.59375 45.0625 6.59375 53.421875 \r\nQ 6.59375 63.09375 13.40625 68.65625 \r\nQ 20.21875 74.21875 32.171875 74.21875 \r\nQ 37.3125 74.21875 42.625 73.28125 \r\nQ 47.953125 72.359375 53.515625 70.515625 \r\nz\r\n\" id=\"DejaVuSans-83\"/>\r\n        <path d=\"M 28.609375 0 \r\nL 0.78125 72.90625 \r\nL 11.078125 72.90625 \r\nL 34.1875 11.53125 \r\nL 57.328125 72.90625 \r\nL 67.578125 72.90625 \r\nL 39.796875 0 \r\nz\r\n\" id=\"DejaVuSans-86\"/>\r\n        <path d=\"M 64.40625 67.28125 \r\nL 64.40625 56.890625 \r\nQ 59.421875 61.53125 53.78125 63.8125 \r\nQ 48.140625 66.109375 41.796875 66.109375 \r\nQ 29.296875 66.109375 22.65625 58.46875 \r\nQ 16.015625 50.828125 16.015625 36.375 \r\nQ 16.015625 21.96875 22.65625 14.328125 \r\nQ 29.296875 6.6875 41.796875 6.6875 \r\nQ 48.140625 6.6875 53.78125 8.984375 \r\nQ 59.421875 11.28125 64.40625 15.921875 \r\nL 64.40625 5.609375 \r\nQ 59.234375 2.09375 53.4375 0.328125 \r\nQ 47.65625 -1.421875 41.21875 -1.421875 \r\nQ 24.65625 -1.421875 15.125 8.703125 \r\nQ 5.609375 18.84375 5.609375 36.375 \r\nQ 5.609375 53.953125 15.125 64.078125 \r\nQ 24.65625 74.21875 41.21875 74.21875 \r\nQ 47.75 74.21875 53.53125 72.484375 \r\nQ 59.328125 70.75 64.40625 67.28125 \r\nz\r\n\" id=\"DejaVuSans-67\"/>\r\n       </defs>\r\n       <use xlink:href=\"#DejaVuSans-83\"/>\r\n       <use x=\"63.476562\" xlink:href=\"#DejaVuSans-86\"/>\r\n       <use x=\"131.884766\" xlink:href=\"#DejaVuSans-67\"/>\r\n      </g>\r\n     </g>\r\n    </g>\r\n    <g id=\"xtick_4\">\r\n     <g id=\"line2d_4\">\r\n      <g>\r\n       <use style=\"stroke:#000000;stroke-width:0.8;\" x=\"278.14125\" xlink:href=\"#mbff8051b21\" y=\"227.08866\"/>\r\n      </g>\r\n     </g>\r\n     <g id=\"text_4\">\r\n      <!-- DT -->\r\n      <g transform=\"translate(271.237344 241.687097)scale(0.1 -0.1)\">\r\n       <defs>\r\n        <path d=\"M 19.671875 64.796875 \r\nL 19.671875 8.109375 \r\nL 31.59375 8.109375 \r\nQ 46.6875 8.109375 53.6875 14.9375 \r\nQ 60.6875 21.78125 60.6875 36.53125 \r\nQ 60.6875 51.171875 53.6875 57.984375 \r\nQ 46.6875 64.796875 31.59375 64.796875 \r\nz\r\nM 9.8125 72.90625 \r\nL 30.078125 72.90625 \r\nQ 51.265625 72.90625 61.171875 64.09375 \r\nQ 71.09375 55.28125 71.09375 36.53125 \r\nQ 71.09375 17.671875 61.125 8.828125 \r\nQ 51.171875 0 30.078125 0 \r\nL 9.8125 0 \r\nz\r\n\" id=\"DejaVuSans-68\"/>\r\n        <path d=\"M -0.296875 72.90625 \r\nL 61.375 72.90625 \r\nL 61.375 64.59375 \r\nL 35.5 64.59375 \r\nL 35.5 0 \r\nL 25.59375 0 \r\nL 25.59375 64.59375 \r\nL -0.296875 64.59375 \r\nz\r\n\" id=\"DejaVuSans-84\"/>\r\n       </defs>\r\n       <use xlink:href=\"#DejaVuSans-68\"/>\r\n       <use x=\"77.001953\" xlink:href=\"#DejaVuSans-84\"/>\r\n      </g>\r\n     </g>\r\n    </g>\r\n    <g id=\"xtick_5\">\r\n     <g id=\"line2d_5\">\r\n      <g>\r\n       <use style=\"stroke:#000000;stroke-width:0.8;\" x=\"345.10125\" xlink:href=\"#mbff8051b21\" y=\"227.08866\"/>\r\n      </g>\r\n     </g>\r\n     <g id=\"text_5\">\r\n      <!-- RF -->\r\n      <g transform=\"translate(338.75125 241.687097)scale(0.1 -0.1)\">\r\n       <defs>\r\n        <path d=\"M 9.8125 72.90625 \r\nL 51.703125 72.90625 \r\nL 51.703125 64.59375 \r\nL 19.671875 64.59375 \r\nL 19.671875 43.109375 \r\nL 48.578125 43.109375 \r\nL 48.578125 34.8125 \r\nL 19.671875 34.8125 \r\nL 19.671875 0 \r\nL 9.8125 0 \r\nz\r\n\" id=\"DejaVuSans-70\"/>\r\n       </defs>\r\n       <use xlink:href=\"#DejaVuSans-82\"/>\r\n       <use x=\"69.482422\" xlink:href=\"#DejaVuSans-70\"/>\r\n      </g>\r\n     </g>\r\n    </g>\r\n    <g id=\"text_6\">\r\n     <!-- Classifier -->\r\n     <g transform=\"translate(188.357031 255.365222)scale(0.1 -0.1)\">\r\n      <defs>\r\n       <path d=\"M 9.421875 75.984375 \r\nL 18.40625 75.984375 \r\nL 18.40625 0 \r\nL 9.421875 0 \r\nz\r\n\" id=\"DejaVuSans-108\"/>\r\n       <path d=\"M 34.28125 27.484375 \r\nQ 23.390625 27.484375 19.1875 25 \r\nQ 14.984375 22.515625 14.984375 16.5 \r\nQ 14.984375 11.71875 18.140625 8.90625 \r\nQ 21.296875 6.109375 26.703125 6.109375 \r\nQ 34.1875 6.109375 38.703125 11.40625 \r\nQ 43.21875 16.703125 43.21875 25.484375 \r\nL 43.21875 27.484375 \r\nz\r\nM 52.203125 31.203125 \r\nL 52.203125 0 \r\nL 43.21875 0 \r\nL 43.21875 8.296875 \r\nQ 40.140625 3.328125 35.546875 0.953125 \r\nQ 30.953125 -1.421875 24.3125 -1.421875 \r\nQ 15.921875 -1.421875 10.953125 3.296875 \r\nQ 6 8.015625 6 15.921875 \r\nQ 6 25.140625 12.171875 29.828125 \r\nQ 18.359375 34.515625 30.609375 34.515625 \r\nL 43.21875 34.515625 \r\nL 43.21875 35.40625 \r\nQ 43.21875 41.609375 39.140625 45 \r\nQ 35.0625 48.390625 27.6875 48.390625 \r\nQ 23 48.390625 18.546875 47.265625 \r\nQ 14.109375 46.140625 10.015625 43.890625 \r\nL 10.015625 52.203125 \r\nQ 14.9375 54.109375 19.578125 55.046875 \r\nQ 24.21875 56 28.609375 56 \r\nQ 40.484375 56 46.34375 49.84375 \r\nQ 52.203125 43.703125 52.203125 31.203125 \r\nz\r\n\" id=\"DejaVuSans-97\"/>\r\n       <path d=\"M 44.28125 53.078125 \r\nL 44.28125 44.578125 \r\nQ 40.484375 46.53125 36.375 47.5 \r\nQ 32.28125 48.484375 27.875 48.484375 \r\nQ 21.1875 48.484375 17.84375 46.4375 \r\nQ 14.5 44.390625 14.5 40.28125 \r\nQ 14.5 37.15625 16.890625 35.375 \r\nQ 19.28125 33.59375 26.515625 31.984375 \r\nL 29.59375 31.296875 \r\nQ 39.15625 29.25 43.1875 25.515625 \r\nQ 47.21875 21.78125 47.21875 15.09375 \r\nQ 47.21875 7.46875 41.1875 3.015625 \r\nQ 35.15625 -1.421875 24.609375 -1.421875 \r\nQ 20.21875 -1.421875 15.453125 -0.5625 \r\nQ 10.6875 0.296875 5.421875 2 \r\nL 5.421875 11.28125 \r\nQ 10.40625 8.6875 15.234375 7.390625 \r\nQ 20.0625 6.109375 24.8125 6.109375 \r\nQ 31.15625 6.109375 34.5625 8.28125 \r\nQ 37.984375 10.453125 37.984375 14.40625 \r\nQ 37.984375 18.0625 35.515625 20.015625 \r\nQ 33.0625 21.96875 24.703125 23.78125 \r\nL 21.578125 24.515625 \r\nQ 13.234375 26.265625 9.515625 29.90625 \r\nQ 5.8125 33.546875 5.8125 39.890625 \r\nQ 5.8125 47.609375 11.28125 51.796875 \r\nQ 16.75 56 26.8125 56 \r\nQ 31.78125 56 36.171875 55.265625 \r\nQ 40.578125 54.546875 44.28125 53.078125 \r\nz\r\n\" id=\"DejaVuSans-115\"/>\r\n       <path d=\"M 9.421875 54.6875 \r\nL 18.40625 54.6875 \r\nL 18.40625 0 \r\nL 9.421875 0 \r\nz\r\nM 9.421875 75.984375 \r\nL 18.40625 75.984375 \r\nL 18.40625 64.59375 \r\nL 9.421875 64.59375 \r\nz\r\n\" id=\"DejaVuSans-105\"/>\r\n       <path d=\"M 37.109375 75.984375 \r\nL 37.109375 68.5 \r\nL 28.515625 68.5 \r\nQ 23.6875 68.5 21.796875 66.546875 \r\nQ 19.921875 64.59375 19.921875 59.515625 \r\nL 19.921875 54.6875 \r\nL 34.71875 54.6875 \r\nL 34.71875 47.703125 \r\nL 19.921875 47.703125 \r\nL 19.921875 0 \r\nL 10.890625 0 \r\nL 10.890625 47.703125 \r\nL 2.296875 47.703125 \r\nL 2.296875 54.6875 \r\nL 10.890625 54.6875 \r\nL 10.890625 58.5 \r\nQ 10.890625 67.625 15.140625 71.796875 \r\nQ 19.390625 75.984375 28.609375 75.984375 \r\nz\r\n\" id=\"DejaVuSans-102\"/>\r\n       <path d=\"M 56.203125 29.59375 \r\nL 56.203125 25.203125 \r\nL 14.890625 25.203125 \r\nQ 15.484375 15.921875 20.484375 11.0625 \r\nQ 25.484375 6.203125 34.421875 6.203125 \r\nQ 39.59375 6.203125 44.453125 7.46875 \r\nQ 49.3125 8.734375 54.109375 11.28125 \r\nL 54.109375 2.78125 \r\nQ 49.265625 0.734375 44.1875 -0.34375 \r\nQ 39.109375 -1.421875 33.890625 -1.421875 \r\nQ 20.796875 -1.421875 13.15625 6.1875 \r\nQ 5.515625 13.8125 5.515625 26.8125 \r\nQ 5.515625 40.234375 12.765625 48.109375 \r\nQ 20.015625 56 32.328125 56 \r\nQ 43.359375 56 49.78125 48.890625 \r\nQ 56.203125 41.796875 56.203125 29.59375 \r\nz\r\nM 47.21875 32.234375 \r\nQ 47.125 39.59375 43.09375 43.984375 \r\nQ 39.0625 48.390625 32.421875 48.390625 \r\nQ 24.90625 48.390625 20.390625 44.140625 \r\nQ 15.875 39.890625 15.1875 32.171875 \r\nz\r\n\" id=\"DejaVuSans-101\"/>\r\n       <path d=\"M 41.109375 46.296875 \r\nQ 39.59375 47.171875 37.8125 47.578125 \r\nQ 36.03125 48 33.890625 48 \r\nQ 26.265625 48 22.1875 43.046875 \r\nQ 18.109375 38.09375 18.109375 28.8125 \r\nL 18.109375 0 \r\nL 9.078125 0 \r\nL 9.078125 54.6875 \r\nL 18.109375 54.6875 \r\nL 18.109375 46.1875 \r\nQ 20.953125 51.171875 25.484375 53.578125 \r\nQ 30.03125 56 36.53125 56 \r\nQ 37.453125 56 38.578125 55.875 \r\nQ 39.703125 55.765625 41.0625 55.515625 \r\nz\r\n\" id=\"DejaVuSans-114\"/>\r\n      </defs>\r\n      <use xlink:href=\"#DejaVuSans-67\"/>\r\n      <use x=\"69.824219\" xlink:href=\"#DejaVuSans-108\"/>\r\n      <use x=\"97.607422\" xlink:href=\"#DejaVuSans-97\"/>\r\n      <use x=\"158.886719\" xlink:href=\"#DejaVuSans-115\"/>\r\n      <use x=\"210.986328\" xlink:href=\"#DejaVuSans-115\"/>\r\n      <use x=\"263.085938\" xlink:href=\"#DejaVuSans-105\"/>\r\n      <use x=\"290.869141\" xlink:href=\"#DejaVuSans-102\"/>\r\n      <use x=\"326.074219\" xlink:href=\"#DejaVuSans-105\"/>\r\n      <use x=\"353.857422\" xlink:href=\"#DejaVuSans-101\"/>\r\n      <use x=\"415.380859\" xlink:href=\"#DejaVuSans-114\"/>\r\n     </g>\r\n    </g>\r\n   </g>\r\n   <g id=\"matplotlib.axis_2\">\r\n    <g id=\"ytick_1\">\r\n     <g id=\"line2d_6\">\r\n      <defs>\r\n       <path d=\"M 0 0 \r\nL -3.5 0 \r\n\" id=\"m63336870df\" style=\"stroke:#000000;stroke-width:0.8;\"/>\r\n      </defs>\r\n      <g>\r\n       <use style=\"stroke:#000000;stroke-width:0.8;\" x=\"43.78125\" xlink:href=\"#m63336870df\" y=\"227.08866\"/>\r\n      </g>\r\n     </g>\r\n     <g id=\"text_7\">\r\n      <!-- 0.0 -->\r\n      <g transform=\"translate(20.878125 230.887878)scale(0.1 -0.1)\">\r\n       <defs>\r\n        <path d=\"M 31.78125 66.40625 \r\nQ 24.171875 66.40625 20.328125 58.90625 \r\nQ 16.5 51.421875 16.5 36.375 \r\nQ 16.5 21.390625 20.328125 13.890625 \r\nQ 24.171875 6.390625 31.78125 6.390625 \r\nQ 39.453125 6.390625 43.28125 13.890625 \r\nQ 47.125 21.390625 47.125 36.375 \r\nQ 47.125 51.421875 43.28125 58.90625 \r\nQ 39.453125 66.40625 31.78125 66.40625 \r\nz\r\nM 31.78125 74.21875 \r\nQ 44.046875 74.21875 50.515625 64.515625 \r\nQ 56.984375 54.828125 56.984375 36.375 \r\nQ 56.984375 17.96875 50.515625 8.265625 \r\nQ 44.046875 -1.421875 31.78125 -1.421875 \r\nQ 19.53125 -1.421875 13.0625 8.265625 \r\nQ 6.59375 17.96875 6.59375 36.375 \r\nQ 6.59375 54.828125 13.0625 64.515625 \r\nQ 19.53125 74.21875 31.78125 74.21875 \r\nz\r\n\" id=\"DejaVuSans-48\"/>\r\n        <path d=\"M 10.6875 12.40625 \r\nL 21 12.40625 \r\nL 21 0 \r\nL 10.6875 0 \r\nz\r\n\" id=\"DejaVuSans-46\"/>\r\n       </defs>\r\n       <use xlink:href=\"#DejaVuSans-48\"/>\r\n       <use x=\"63.623047\" xlink:href=\"#DejaVuSans-46\"/>\r\n       <use x=\"95.410156\" xlink:href=\"#DejaVuSans-48\"/>\r\n      </g>\r\n     </g>\r\n    </g>\r\n    <g id=\"ytick_2\">\r\n     <g id=\"line2d_7\">\r\n      <g>\r\n       <use style=\"stroke:#000000;stroke-width:0.8;\" x=\"43.78125\" xlink:href=\"#m63336870df\" y=\"183.870772\"/>\r\n      </g>\r\n     </g>\r\n     <g id=\"text_8\">\r\n      <!-- 0.2 -->\r\n      <g transform=\"translate(20.878125 187.66999)scale(0.1 -0.1)\">\r\n       <defs>\r\n        <path d=\"M 19.1875 8.296875 \r\nL 53.609375 8.296875 \r\nL 53.609375 0 \r\nL 7.328125 0 \r\nL 7.328125 8.296875 \r\nQ 12.9375 14.109375 22.625 23.890625 \r\nQ 32.328125 33.6875 34.8125 36.53125 \r\nQ 39.546875 41.84375 41.421875 45.53125 \r\nQ 43.3125 49.21875 43.3125 52.78125 \r\nQ 43.3125 58.59375 39.234375 62.25 \r\nQ 35.15625 65.921875 28.609375 65.921875 \r\nQ 23.96875 65.921875 18.8125 64.3125 \r\nQ 13.671875 62.703125 7.8125 59.421875 \r\nL 7.8125 69.390625 \r\nQ 13.765625 71.78125 18.9375 73 \r\nQ 24.125 74.21875 28.421875 74.21875 \r\nQ 39.75 74.21875 46.484375 68.546875 \r\nQ 53.21875 62.890625 53.21875 53.421875 \r\nQ 53.21875 48.921875 51.53125 44.890625 \r\nQ 49.859375 40.875 45.40625 35.40625 \r\nQ 44.1875 33.984375 37.640625 27.21875 \r\nQ 31.109375 20.453125 19.1875 8.296875 \r\nz\r\n\" id=\"DejaVuSans-50\"/>\r\n       </defs>\r\n       <use xlink:href=\"#DejaVuSans-48\"/>\r\n       <use x=\"63.623047\" xlink:href=\"#DejaVuSans-46\"/>\r\n       <use x=\"95.410156\" xlink:href=\"#DejaVuSans-50\"/>\r\n      </g>\r\n     </g>\r\n    </g>\r\n    <g id=\"ytick_3\">\r\n     <g id=\"line2d_8\">\r\n      <g>\r\n       <use style=\"stroke:#000000;stroke-width:0.8;\" x=\"43.78125\" xlink:href=\"#m63336870df\" y=\"140.652883\"/>\r\n      </g>\r\n     </g>\r\n     <g id=\"text_9\">\r\n      <!-- 0.4 -->\r\n      <g transform=\"translate(20.878125 144.452102)scale(0.1 -0.1)\">\r\n       <defs>\r\n        <path d=\"M 37.796875 64.3125 \r\nL 12.890625 25.390625 \r\nL 37.796875 25.390625 \r\nz\r\nM 35.203125 72.90625 \r\nL 47.609375 72.90625 \r\nL 47.609375 25.390625 \r\nL 58.015625 25.390625 \r\nL 58.015625 17.1875 \r\nL 47.609375 17.1875 \r\nL 47.609375 0 \r\nL 37.796875 0 \r\nL 37.796875 17.1875 \r\nL 4.890625 17.1875 \r\nL 4.890625 26.703125 \r\nz\r\n\" id=\"DejaVuSans-52\"/>\r\n       </defs>\r\n       <use xlink:href=\"#DejaVuSans-48\"/>\r\n       <use x=\"63.623047\" xlink:href=\"#DejaVuSans-46\"/>\r\n       <use x=\"95.410156\" xlink:href=\"#DejaVuSans-52\"/>\r\n      </g>\r\n     </g>\r\n    </g>\r\n    <g id=\"ytick_4\">\r\n     <g id=\"line2d_9\">\r\n      <g>\r\n       <use style=\"stroke:#000000;stroke-width:0.8;\" x=\"43.78125\" xlink:href=\"#m63336870df\" y=\"97.434995\"/>\r\n      </g>\r\n     </g>\r\n     <g id=\"text_10\">\r\n      <!-- 0.6 -->\r\n      <g transform=\"translate(20.878125 101.234214)scale(0.1 -0.1)\">\r\n       <defs>\r\n        <path d=\"M 33.015625 40.375 \r\nQ 26.375 40.375 22.484375 35.828125 \r\nQ 18.609375 31.296875 18.609375 23.390625 \r\nQ 18.609375 15.53125 22.484375 10.953125 \r\nQ 26.375 6.390625 33.015625 6.390625 \r\nQ 39.65625 6.390625 43.53125 10.953125 \r\nQ 47.40625 15.53125 47.40625 23.390625 \r\nQ 47.40625 31.296875 43.53125 35.828125 \r\nQ 39.65625 40.375 33.015625 40.375 \r\nz\r\nM 52.59375 71.296875 \r\nL 52.59375 62.3125 \r\nQ 48.875 64.0625 45.09375 64.984375 \r\nQ 41.3125 65.921875 37.59375 65.921875 \r\nQ 27.828125 65.921875 22.671875 59.328125 \r\nQ 17.53125 52.734375 16.796875 39.40625 \r\nQ 19.671875 43.65625 24.015625 45.921875 \r\nQ 28.375 48.1875 33.59375 48.1875 \r\nQ 44.578125 48.1875 50.953125 41.515625 \r\nQ 57.328125 34.859375 57.328125 23.390625 \r\nQ 57.328125 12.15625 50.6875 5.359375 \r\nQ 44.046875 -1.421875 33.015625 -1.421875 \r\nQ 20.359375 -1.421875 13.671875 8.265625 \r\nQ 6.984375 17.96875 6.984375 36.375 \r\nQ 6.984375 53.65625 15.1875 63.9375 \r\nQ 23.390625 74.21875 37.203125 74.21875 \r\nQ 40.921875 74.21875 44.703125 73.484375 \r\nQ 48.484375 72.75 52.59375 71.296875 \r\nz\r\n\" id=\"DejaVuSans-54\"/>\r\n       </defs>\r\n       <use xlink:href=\"#DejaVuSans-48\"/>\r\n       <use x=\"63.623047\" xlink:href=\"#DejaVuSans-46\"/>\r\n       <use x=\"95.410156\" xlink:href=\"#DejaVuSans-54\"/>\r\n      </g>\r\n     </g>\r\n    </g>\r\n    <g id=\"ytick_5\">\r\n     <g id=\"line2d_10\">\r\n      <g>\r\n       <use style=\"stroke:#000000;stroke-width:0.8;\" x=\"43.78125\" xlink:href=\"#m63336870df\" y=\"54.217107\"/>\r\n      </g>\r\n     </g>\r\n     <g id=\"text_11\">\r\n      <!-- 0.8 -->\r\n      <g transform=\"translate(20.878125 58.016326)scale(0.1 -0.1)\">\r\n       <defs>\r\n        <path d=\"M 31.78125 34.625 \r\nQ 24.75 34.625 20.71875 30.859375 \r\nQ 16.703125 27.09375 16.703125 20.515625 \r\nQ 16.703125 13.921875 20.71875 10.15625 \r\nQ 24.75 6.390625 31.78125 6.390625 \r\nQ 38.8125 6.390625 42.859375 10.171875 \r\nQ 46.921875 13.96875 46.921875 20.515625 \r\nQ 46.921875 27.09375 42.890625 30.859375 \r\nQ 38.875 34.625 31.78125 34.625 \r\nz\r\nM 21.921875 38.8125 \r\nQ 15.578125 40.375 12.03125 44.71875 \r\nQ 8.5 49.078125 8.5 55.328125 \r\nQ 8.5 64.0625 14.71875 69.140625 \r\nQ 20.953125 74.21875 31.78125 74.21875 \r\nQ 42.671875 74.21875 48.875 69.140625 \r\nQ 55.078125 64.0625 55.078125 55.328125 \r\nQ 55.078125 49.078125 51.53125 44.71875 \r\nQ 48 40.375 41.703125 38.8125 \r\nQ 48.828125 37.15625 52.796875 32.3125 \r\nQ 56.78125 27.484375 56.78125 20.515625 \r\nQ 56.78125 9.90625 50.3125 4.234375 \r\nQ 43.84375 -1.421875 31.78125 -1.421875 \r\nQ 19.734375 -1.421875 13.25 4.234375 \r\nQ 6.78125 9.90625 6.78125 20.515625 \r\nQ 6.78125 27.484375 10.78125 32.3125 \r\nQ 14.796875 37.15625 21.921875 38.8125 \r\nz\r\nM 18.3125 54.390625 \r\nQ 18.3125 48.734375 21.84375 45.5625 \r\nQ 25.390625 42.390625 31.78125 42.390625 \r\nQ 38.140625 42.390625 41.71875 45.5625 \r\nQ 45.3125 48.734375 45.3125 54.390625 \r\nQ 45.3125 60.0625 41.71875 63.234375 \r\nQ 38.140625 66.40625 31.78125 66.40625 \r\nQ 25.390625 66.40625 21.84375 63.234375 \r\nQ 18.3125 60.0625 18.3125 54.390625 \r\nz\r\n\" id=\"DejaVuSans-56\"/>\r\n       </defs>\r\n       <use xlink:href=\"#DejaVuSans-48\"/>\r\n       <use x=\"63.623047\" xlink:href=\"#DejaVuSans-46\"/>\r\n       <use x=\"95.410156\" xlink:href=\"#DejaVuSans-56\"/>\r\n      </g>\r\n     </g>\r\n    </g>\r\n    <g id=\"ytick_6\">\r\n     <g id=\"line2d_11\">\r\n      <g>\r\n       <use style=\"stroke:#000000;stroke-width:0.8;\" x=\"43.78125\" xlink:href=\"#m63336870df\" y=\"10.999219\"/>\r\n      </g>\r\n     </g>\r\n     <g id=\"text_12\">\r\n      <!-- 1.0 -->\r\n      <g transform=\"translate(20.878125 14.798437)scale(0.1 -0.1)\">\r\n       <defs>\r\n        <path d=\"M 12.40625 8.296875 \r\nL 28.515625 8.296875 \r\nL 28.515625 63.921875 \r\nL 10.984375 60.40625 \r\nL 10.984375 69.390625 \r\nL 28.421875 72.90625 \r\nL 38.28125 72.90625 \r\nL 38.28125 8.296875 \r\nL 54.390625 8.296875 \r\nL 54.390625 0 \r\nL 12.40625 0 \r\nz\r\n\" id=\"DejaVuSans-49\"/>\r\n       </defs>\r\n       <use xlink:href=\"#DejaVuSans-49\"/>\r\n       <use x=\"63.623047\" xlink:href=\"#DejaVuSans-46\"/>\r\n       <use x=\"95.410156\" xlink:href=\"#DejaVuSans-48\"/>\r\n      </g>\r\n     </g>\r\n    </g>\r\n    <g id=\"text_13\">\r\n     <!-- Accuracy -->\r\n     <g transform=\"translate(14.798438 141.196785)rotate(-90)scale(0.1 -0.1)\">\r\n      <defs>\r\n       <path d=\"M 34.1875 63.1875 \r\nL 20.796875 26.90625 \r\nL 47.609375 26.90625 \r\nz\r\nM 28.609375 72.90625 \r\nL 39.796875 72.90625 \r\nL 67.578125 0 \r\nL 57.328125 0 \r\nL 50.6875 18.703125 \r\nL 17.828125 18.703125 \r\nL 11.1875 0 \r\nL 0.78125 0 \r\nz\r\n\" id=\"DejaVuSans-65\"/>\r\n       <path d=\"M 48.78125 52.59375 \r\nL 48.78125 44.1875 \r\nQ 44.96875 46.296875 41.140625 47.34375 \r\nQ 37.3125 48.390625 33.40625 48.390625 \r\nQ 24.65625 48.390625 19.8125 42.84375 \r\nQ 14.984375 37.3125 14.984375 27.296875 \r\nQ 14.984375 17.28125 19.8125 11.734375 \r\nQ 24.65625 6.203125 33.40625 6.203125 \r\nQ 37.3125 6.203125 41.140625 7.25 \r\nQ 44.96875 8.296875 48.78125 10.40625 \r\nL 48.78125 2.09375 \r\nQ 45.015625 0.34375 40.984375 -0.53125 \r\nQ 36.96875 -1.421875 32.421875 -1.421875 \r\nQ 20.0625 -1.421875 12.78125 6.34375 \r\nQ 5.515625 14.109375 5.515625 27.296875 \r\nQ 5.515625 40.671875 12.859375 48.328125 \r\nQ 20.21875 56 33.015625 56 \r\nQ 37.15625 56 41.109375 55.140625 \r\nQ 45.0625 54.296875 48.78125 52.59375 \r\nz\r\n\" id=\"DejaVuSans-99\"/>\r\n       <path d=\"M 8.5 21.578125 \r\nL 8.5 54.6875 \r\nL 17.484375 54.6875 \r\nL 17.484375 21.921875 \r\nQ 17.484375 14.15625 20.5 10.265625 \r\nQ 23.53125 6.390625 29.59375 6.390625 \r\nQ 36.859375 6.390625 41.078125 11.03125 \r\nQ 45.3125 15.671875 45.3125 23.6875 \r\nL 45.3125 54.6875 \r\nL 54.296875 54.6875 \r\nL 54.296875 0 \r\nL 45.3125 0 \r\nL 45.3125 8.40625 \r\nQ 42.046875 3.421875 37.71875 1 \r\nQ 33.40625 -1.421875 27.6875 -1.421875 \r\nQ 18.265625 -1.421875 13.375 4.4375 \r\nQ 8.5 10.296875 8.5 21.578125 \r\nz\r\nM 31.109375 56 \r\nz\r\n\" id=\"DejaVuSans-117\"/>\r\n       <path d=\"M 32.171875 -5.078125 \r\nQ 28.375 -14.84375 24.75 -17.8125 \r\nQ 21.140625 -20.796875 15.09375 -20.796875 \r\nL 7.90625 -20.796875 \r\nL 7.90625 -13.28125 \r\nL 13.1875 -13.28125 \r\nQ 16.890625 -13.28125 18.9375 -11.515625 \r\nQ 21 -9.765625 23.484375 -3.21875 \r\nL 25.09375 0.875 \r\nL 2.984375 54.6875 \r\nL 12.5 54.6875 \r\nL 29.59375 11.921875 \r\nL 46.6875 54.6875 \r\nL 56.203125 54.6875 \r\nz\r\n\" id=\"DejaVuSans-121\"/>\r\n      </defs>\r\n      <use xlink:href=\"#DejaVuSans-65\"/>\r\n      <use x=\"66.658203\" xlink:href=\"#DejaVuSans-99\"/>\r\n      <use x=\"121.638672\" xlink:href=\"#DejaVuSans-99\"/>\r\n      <use x=\"176.619141\" xlink:href=\"#DejaVuSans-117\"/>\r\n      <use x=\"239.998047\" xlink:href=\"#DejaVuSans-114\"/>\r\n      <use x=\"281.111328\" xlink:href=\"#DejaVuSans-97\"/>\r\n      <use x=\"342.390625\" xlink:href=\"#DejaVuSans-99\"/>\r\n      <use x=\"397.371094\" xlink:href=\"#DejaVuSans-121\"/>\r\n     </g>\r\n    </g>\r\n   </g>\r\n   <g id=\"line2d_12\">\r\n    <path clip-path=\"url(#p3245f3c89b)\" style=\"fill:none;stroke:#424242;stroke-linecap:square;stroke-width:2.7;\"/>\r\n   </g>\r\n   <g id=\"line2d_13\">\r\n    <path clip-path=\"url(#p3245f3c89b)\" style=\"fill:none;stroke:#424242;stroke-linecap:square;stroke-width:2.7;\"/>\r\n   </g>\r\n   <g id=\"line2d_14\">\r\n    <path clip-path=\"url(#p3245f3c89b)\" style=\"fill:none;stroke:#424242;stroke-linecap:square;stroke-width:2.7;\"/>\r\n   </g>\r\n   <g id=\"line2d_15\">\r\n    <path clip-path=\"url(#p3245f3c89b)\" style=\"fill:none;stroke:#424242;stroke-linecap:square;stroke-width:2.7;\"/>\r\n   </g>\r\n   <g id=\"line2d_16\">\r\n    <path clip-path=\"url(#p3245f3c89b)\" style=\"fill:none;stroke:#424242;stroke-linecap:square;stroke-width:2.7;\"/>\r\n   </g>\r\n   <g id=\"patch_8\">\r\n    <path d=\"M 43.78125 227.08866 \r\nL 43.78125 9.64866 \r\n\" style=\"fill:none;stroke:#000000;stroke-linecap:square;stroke-linejoin:miter;stroke-width:0.8;\"/>\r\n   </g>\r\n   <g id=\"patch_9\">\r\n    <path d=\"M 378.58125 227.08866 \r\nL 378.58125 9.64866 \r\n\" style=\"fill:none;stroke:#000000;stroke-linecap:square;stroke-linejoin:miter;stroke-width:0.8;\"/>\r\n   </g>\r\n   <g id=\"patch_10\">\r\n    <path d=\"M 43.78125 227.08866 \r\nL 378.58125 227.08866 \r\n\" style=\"fill:none;stroke:#000000;stroke-linecap:square;stroke-linejoin:miter;stroke-width:0.8;\"/>\r\n   </g>\r\n   <g id=\"patch_11\">\r\n    <path d=\"M 43.78125 9.64866 \r\nL 378.58125 9.64866 \r\n\" style=\"fill:none;stroke:#000000;stroke-linecap:square;stroke-linejoin:miter;stroke-width:0.8;\"/>\r\n   </g>\r\n   <g id=\"text_14\">\r\n    <!-- 0.9583 -->\r\n    <g transform=\"translate(59.765938 17.842051)scale(0.1 -0.1)\">\r\n     <defs>\r\n      <path d=\"M 10.984375 1.515625 \r\nL 10.984375 10.5 \r\nQ 14.703125 8.734375 18.5 7.8125 \r\nQ 22.3125 6.890625 25.984375 6.890625 \r\nQ 35.75 6.890625 40.890625 13.453125 \r\nQ 46.046875 20.015625 46.78125 33.40625 \r\nQ 43.953125 29.203125 39.59375 26.953125 \r\nQ 35.25 24.703125 29.984375 24.703125 \r\nQ 19.046875 24.703125 12.671875 31.3125 \r\nQ 6.296875 37.9375 6.296875 49.421875 \r\nQ 6.296875 60.640625 12.9375 67.421875 \r\nQ 19.578125 74.21875 30.609375 74.21875 \r\nQ 43.265625 74.21875 49.921875 64.515625 \r\nQ 56.59375 54.828125 56.59375 36.375 \r\nQ 56.59375 19.140625 48.40625 8.859375 \r\nQ 40.234375 -1.421875 26.421875 -1.421875 \r\nQ 22.703125 -1.421875 18.890625 -0.6875 \r\nQ 15.09375 0.046875 10.984375 1.515625 \r\nz\r\nM 30.609375 32.421875 \r\nQ 37.25 32.421875 41.125 36.953125 \r\nQ 45.015625 41.5 45.015625 49.421875 \r\nQ 45.015625 57.28125 41.125 61.84375 \r\nQ 37.25 66.40625 30.609375 66.40625 \r\nQ 23.96875 66.40625 20.09375 61.84375 \r\nQ 16.21875 57.28125 16.21875 49.421875 \r\nQ 16.21875 41.5 20.09375 36.953125 \r\nQ 23.96875 32.421875 30.609375 32.421875 \r\nz\r\n\" id=\"DejaVuSans-57\"/>\r\n      <path d=\"M 10.796875 72.90625 \r\nL 49.515625 72.90625 \r\nL 49.515625 64.59375 \r\nL 19.828125 64.59375 \r\nL 19.828125 46.734375 \r\nQ 21.96875 47.46875 24.109375 47.828125 \r\nQ 26.265625 48.1875 28.421875 48.1875 \r\nQ 40.625 48.1875 47.75 41.5 \r\nQ 54.890625 34.8125 54.890625 23.390625 \r\nQ 54.890625 11.625 47.5625 5.09375 \r\nQ 40.234375 -1.421875 26.90625 -1.421875 \r\nQ 22.3125 -1.421875 17.546875 -0.640625 \r\nQ 12.796875 0.140625 7.71875 1.703125 \r\nL 7.71875 11.625 \r\nQ 12.109375 9.234375 16.796875 8.0625 \r\nQ 21.484375 6.890625 26.703125 6.890625 \r\nQ 35.15625 6.890625 40.078125 11.328125 \r\nQ 45.015625 15.765625 45.015625 23.390625 \r\nQ 45.015625 31 40.078125 35.4375 \r\nQ 35.15625 39.890625 26.703125 39.890625 \r\nQ 22.75 39.890625 18.8125 39.015625 \r\nQ 14.890625 38.140625 10.796875 36.28125 \r\nz\r\n\" id=\"DejaVuSans-53\"/>\r\n      <path d=\"M 40.578125 39.3125 \r\nQ 47.65625 37.796875 51.625 33 \r\nQ 55.609375 28.21875 55.609375 21.1875 \r\nQ 55.609375 10.40625 48.1875 4.484375 \r\nQ 40.765625 -1.421875 27.09375 -1.421875 \r\nQ 22.515625 -1.421875 17.65625 -0.515625 \r\nQ 12.796875 0.390625 7.625 2.203125 \r\nL 7.625 11.71875 \r\nQ 11.71875 9.328125 16.59375 8.109375 \r\nQ 21.484375 6.890625 26.8125 6.890625 \r\nQ 36.078125 6.890625 40.9375 10.546875 \r\nQ 45.796875 14.203125 45.796875 21.1875 \r\nQ 45.796875 27.640625 41.28125 31.265625 \r\nQ 36.765625 34.90625 28.71875 34.90625 \r\nL 20.21875 34.90625 \r\nL 20.21875 43.015625 \r\nL 29.109375 43.015625 \r\nQ 36.375 43.015625 40.234375 45.921875 \r\nQ 44.09375 48.828125 44.09375 54.296875 \r\nQ 44.09375 59.90625 40.109375 62.90625 \r\nQ 36.140625 65.921875 28.71875 65.921875 \r\nQ 24.65625 65.921875 20.015625 65.03125 \r\nQ 15.375 64.15625 9.8125 62.3125 \r\nL 9.8125 71.09375 \r\nQ 15.4375 72.65625 20.34375 73.4375 \r\nQ 25.25 74.21875 29.59375 74.21875 \r\nQ 40.828125 74.21875 47.359375 69.109375 \r\nQ 53.90625 64.015625 53.90625 55.328125 \r\nQ 53.90625 49.265625 50.4375 45.09375 \r\nQ 46.96875 40.921875 40.578125 39.3125 \r\nz\r\n\" id=\"DejaVuSans-51\"/>\r\n     </defs>\r\n     <use xlink:href=\"#DejaVuSans-48\"/>\r\n     <use x=\"63.623047\" xlink:href=\"#DejaVuSans-46\"/>\r\n     <use x=\"95.410156\" xlink:href=\"#DejaVuSans-57\"/>\r\n     <use x=\"159.033203\" xlink:href=\"#DejaVuSans-53\"/>\r\n     <use x=\"222.65625\" xlink:href=\"#DejaVuSans-56\"/>\r\n     <use x=\"286.279297\" xlink:href=\"#DejaVuSans-51\"/>\r\n    </g>\r\n   </g>\r\n   <g id=\"text_15\">\r\n    <!-- 0.9583 -->\r\n    <g transform=\"translate(126.725938 17.842051)scale(0.1 -0.1)\">\r\n     <use xlink:href=\"#DejaVuSans-48\"/>\r\n     <use x=\"63.623047\" xlink:href=\"#DejaVuSans-46\"/>\r\n     <use x=\"95.410156\" xlink:href=\"#DejaVuSans-57\"/>\r\n     <use x=\"159.033203\" xlink:href=\"#DejaVuSans-53\"/>\r\n     <use x=\"222.65625\" xlink:href=\"#DejaVuSans-56\"/>\r\n     <use x=\"286.279297\" xlink:href=\"#DejaVuSans-51\"/>\r\n    </g>\r\n   </g>\r\n   <g id=\"text_16\">\r\n    <!-- 0.8333 -->\r\n    <g transform=\"translate(193.685938 44.853231)scale(0.1 -0.1)\">\r\n     <use xlink:href=\"#DejaVuSans-48\"/>\r\n     <use x=\"63.623047\" xlink:href=\"#DejaVuSans-46\"/>\r\n     <use x=\"95.410156\" xlink:href=\"#DejaVuSans-56\"/>\r\n     <use x=\"159.033203\" xlink:href=\"#DejaVuSans-51\"/>\r\n     <use x=\"222.65625\" xlink:href=\"#DejaVuSans-51\"/>\r\n     <use x=\"286.279297\" xlink:href=\"#DejaVuSans-51\"/>\r\n    </g>\r\n   </g>\r\n   <g id=\"text_17\">\r\n    <!-- 0.7500 -->\r\n    <g transform=\"translate(260.645938 62.860685)scale(0.1 -0.1)\">\r\n     <defs>\r\n      <path d=\"M 8.203125 72.90625 \r\nL 55.078125 72.90625 \r\nL 55.078125 68.703125 \r\nL 28.609375 0 \r\nL 18.3125 0 \r\nL 43.21875 64.59375 \r\nL 8.203125 64.59375 \r\nz\r\n\" id=\"DejaVuSans-55\"/>\r\n     </defs>\r\n     <use xlink:href=\"#DejaVuSans-48\"/>\r\n     <use x=\"63.623047\" xlink:href=\"#DejaVuSans-46\"/>\r\n     <use x=\"95.410156\" xlink:href=\"#DejaVuSans-55\"/>\r\n     <use x=\"159.033203\" xlink:href=\"#DejaVuSans-53\"/>\r\n     <use x=\"222.65625\" xlink:href=\"#DejaVuSans-48\"/>\r\n     <use x=\"286.279297\" xlink:href=\"#DejaVuSans-48\"/>\r\n    </g>\r\n   </g>\r\n   <g id=\"text_18\">\r\n    <!-- 0.8333 -->\r\n    <g transform=\"translate(327.605938 44.853231)scale(0.1 -0.1)\">\r\n     <use xlink:href=\"#DejaVuSans-48\"/>\r\n     <use x=\"63.623047\" xlink:href=\"#DejaVuSans-46\"/>\r\n     <use x=\"95.410156\" xlink:href=\"#DejaVuSans-56\"/>\r\n     <use x=\"159.033203\" xlink:href=\"#DejaVuSans-51\"/>\r\n     <use x=\"222.65625\" xlink:href=\"#DejaVuSans-51\"/>\r\n     <use x=\"286.279297\" xlink:href=\"#DejaVuSans-51\"/>\r\n    </g>\r\n   </g>\r\n  </g>\r\n </g>\r\n <defs>\r\n  <clipPath id=\"p3245f3c89b\">\r\n   <rect height=\"217.44\" width=\"334.8\" x=\"43.78125\" y=\"9.64866\"/>\r\n  </clipPath>\r\n </defs>\r\n</svg>\r\n",
            "image/png": "[encoded data removed]"
          },
          "metadata": {
            "needs_background": "light"
          }
        }
      ]
    },
    {
      "cell_type": "code",
      "metadata": {
        "id": "w_y30szijT3Q",
        "colab_type": "code",
        "colab": {}
      },
      "source": [],
      "execution_count": 0,
      "outputs": []
    }
  ]
}